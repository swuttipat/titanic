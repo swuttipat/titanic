{
 "cells": [
  {
   "cell_type": "markdown",
   "id": "decc908d",
   "metadata": {
    "papermill": {
     "duration": 0.00902,
     "end_time": "2023-02-14T05:33:47.357226",
     "exception": false,
     "start_time": "2023-02-14T05:33:47.348206",
     "status": "completed"
    },
    "tags": []
   },
   "source": [
    "# Dataset Description\n",
    "### Overview\n",
    "The data has been split into two groups:\n",
    "* training set (train.csv)\n",
    "* test set (test.csv)\n",
    "\n",
    "**The training set** should be used to build your machine learning models. For the training set, we provide the outcome (also known as the “ground truth”) for each passenger. Your model will be based on “features” like passengers’ gender and class. You can also use *feature engineering* to create new features.\n",
    "\n",
    "**The test set** should be used to see how well your model performs on unseen data. For the test set, we do not provide the ground truth for each passenger. It is your job to predict these outcomes. For each passenger in the test set, use the model you trained to predict whether or not they survived the sinking of the Titanic.\n",
    "\n",
    "We also include **gender_submission.csv**, a set of predictions that assume all and only female passengers survive, as an example of what a submission file should look like.\n",
    "\n",
    "Data Dictionary\n",
    "\n",
    "| Variable |                 Definition                 |                       Key                      |\n",
    "|:---------|:-------------------------------------------|:-----------------------------------------------|\n",
    "| survival | Survival                                   | 0 = No, 1 = Yes                                |\n",
    "| pclass   | Ticket class                               | 1 = 1st, 2 = 2nd, 3 = 3rd                      |\n",
    "| sex      | Sex                                        |                                                |\n",
    "| Age      | Age in years                               |                                                |\n",
    "| sibsp    | # of siblings / spouses aboard the Titanic |                                                |\n",
    "| parch    | # of parents / children aboard the Titanic |                                                |\n",
    "| ticket   | Ticket number                              |                                                |\n",
    "| fare     | Passenger fare                             |                                                |\n",
    "| cabin    | Cabin number                               |                                                |\n",
    "| embarked | Port of Embarkation                        | C = Cherbourg, Q = Queenstown, S = Southampton |\n",
    "\n",
    "### Variable Notes\n",
    "**pclass**: A proxy for socio-economic status (SES) <br>\n",
    "1st = Upper <br>\n",
    "2nd = Middle <br>\n",
    "3rd = Lower <br>\n",
    "\n",
    "**age**: Age is fractional if less than 1. If the age is estimated, is it in the form of xx.5\n",
    "\n",
    "**sibsp**: The dataset defines family relations in this way...\n",
    "Sibling = brother, sister, stepbrother, stepsister\n",
    "Spouse = husband, wife (mistresses and fiancés were ignored)\n",
    "\n",
    "**parch**: The dataset defines family relations in this way...\n",
    "Parent = mother, father\n",
    "Child = daughter, son, stepdaughter, stepson\n",
    "Some children travelled only with a nanny, therefore parch=0 for them."
   ]
  },
  {
   "cell_type": "markdown",
   "id": "304c2f98",
   "metadata": {
    "papermill": {
     "duration": 0.007311,
     "end_time": "2023-02-14T05:33:47.372316",
     "exception": false,
     "start_time": "2023-02-14T05:33:47.365005",
     "status": "completed"
    },
    "tags": []
   },
   "source": [
    "source:\n",
    "https://www.kaggle.com/competitions/titanic\n",
    "<br><br><br><br>"
   ]
  },
  {
   "cell_type": "markdown",
   "id": "bcf885c1",
   "metadata": {
    "papermill": {
     "duration": 0.007579,
     "end_time": "2023-02-14T05:33:47.387453",
     "exception": false,
     "start_time": "2023-02-14T05:33:47.379874",
     "status": "completed"
    },
    "tags": []
   },
   "source": [
    "### Import libraries"
   ]
  },
  {
   "cell_type": "code",
   "execution_count": 1,
   "id": "9b0ebe8a",
   "metadata": {
    "execution": {
     "iopub.execute_input": "2023-02-14T05:33:47.405029Z",
     "iopub.status.busy": "2023-02-14T05:33:47.404251Z",
     "iopub.status.idle": "2023-02-14T05:33:48.286803Z",
     "shell.execute_reply": "2023-02-14T05:33:48.285852Z"
    },
    "papermill": {
     "duration": 0.894507,
     "end_time": "2023-02-14T05:33:48.289537",
     "exception": false,
     "start_time": "2023-02-14T05:33:47.395030",
     "status": "completed"
    },
    "tags": []
   },
   "outputs": [],
   "source": [
    "import pandas as pd\n",
    "import numpy as np\n",
    "import matplotlib.pyplot as plt\n",
    "import seaborn as sns\n",
    "import warnings\n",
    "warnings.filterwarnings('ignore')"
   ]
  },
  {
   "cell_type": "markdown",
   "id": "02758e1d",
   "metadata": {
    "papermill": {
     "duration": 0.007111,
     "end_time": "2023-02-14T05:33:48.304250",
     "exception": false,
     "start_time": "2023-02-14T05:33:48.297139",
     "status": "completed"
    },
    "tags": []
   },
   "source": [
    "### Load data"
   ]
  },
  {
   "cell_type": "code",
   "execution_count": 2,
   "id": "76280857",
   "metadata": {
    "execution": {
     "iopub.execute_input": "2023-02-14T05:33:48.320520Z",
     "iopub.status.busy": "2023-02-14T05:33:48.320143Z",
     "iopub.status.idle": "2023-02-14T05:33:48.345222Z",
     "shell.execute_reply": "2023-02-14T05:33:48.344297Z"
    },
    "papermill": {
     "duration": 0.03616,
     "end_time": "2023-02-14T05:33:48.347677",
     "exception": false,
     "start_time": "2023-02-14T05:33:48.311517",
     "status": "completed"
    },
    "tags": []
   },
   "outputs": [],
   "source": [
    "train = pd.read_csv('/kaggle/input/titanic/train.csv').copy()\n",
    "test = pd.read_csv('/kaggle/input/titanic/test.csv').copy()"
   ]
  },
  {
   "cell_type": "markdown",
   "id": "12561c87",
   "metadata": {
    "papermill": {
     "duration": 0.007225,
     "end_time": "2023-02-14T05:33:48.362553",
     "exception": false,
     "start_time": "2023-02-14T05:33:48.355328",
     "status": "completed"
    },
    "tags": []
   },
   "source": [
    "### Data Cleaning and Proprocessing"
   ]
  },
  {
   "cell_type": "code",
   "execution_count": 3,
   "id": "e094db50",
   "metadata": {
    "execution": {
     "iopub.execute_input": "2023-02-14T05:33:48.380472Z",
     "iopub.status.busy": "2023-02-14T05:33:48.379813Z",
     "iopub.status.idle": "2023-02-14T05:33:48.384569Z",
     "shell.execute_reply": "2023-02-14T05:33:48.383781Z"
    },
    "papermill": {
     "duration": 0.01661,
     "end_time": "2023-02-14T05:33:48.386580",
     "exception": false,
     "start_time": "2023-02-14T05:33:48.369970",
     "status": "completed"
    },
    "tags": []
   },
   "outputs": [],
   "source": [
    "numerical_features = ['age', 'fare']\n",
    "categorical_features = ['pclass', 'sex', 'sibsp', 'parch', 'embarked']\n",
    "removeable_features = ['passengerid', 'name', 'ticket', 'cabin']"
   ]
  },
  {
   "cell_type": "code",
   "execution_count": 4,
   "id": "6bc52e51",
   "metadata": {
    "execution": {
     "iopub.execute_input": "2023-02-14T05:33:48.404200Z",
     "iopub.status.busy": "2023-02-14T05:33:48.403782Z",
     "iopub.status.idle": "2023-02-14T05:33:48.418317Z",
     "shell.execute_reply": "2023-02-14T05:33:48.417236Z"
    },
    "papermill": {
     "duration": 0.026595,
     "end_time": "2023-02-14T05:33:48.420976",
     "exception": false,
     "start_time": "2023-02-14T05:33:48.394381",
     "status": "completed"
    },
    "tags": []
   },
   "outputs": [
    {
     "data": {
      "text/plain": [
       "PassengerId      0\n",
       "Survived         0\n",
       "Pclass           0\n",
       "Name             0\n",
       "Sex              0\n",
       "Age            177\n",
       "SibSp            0\n",
       "Parch            0\n",
       "Ticket           0\n",
       "Fare             0\n",
       "Cabin          687\n",
       "Embarked         2\n",
       "dtype: int64"
      ]
     },
     "execution_count": 4,
     "metadata": {},
     "output_type": "execute_result"
    }
   ],
   "source": [
    "# See Nan values\n",
    "train.isna().sum()"
   ]
  },
  {
   "cell_type": "code",
   "execution_count": 5,
   "id": "85711eb6",
   "metadata": {
    "execution": {
     "iopub.execute_input": "2023-02-14T05:33:48.438339Z",
     "iopub.status.busy": "2023-02-14T05:33:48.437328Z",
     "iopub.status.idle": "2023-02-14T05:33:48.442677Z",
     "shell.execute_reply": "2023-02-14T05:33:48.441959Z"
    },
    "papermill": {
     "duration": 0.016113,
     "end_time": "2023-02-14T05:33:48.444882",
     "exception": false,
     "start_time": "2023-02-14T05:33:48.428769",
     "status": "completed"
    },
    "tags": []
   },
   "outputs": [],
   "source": [
    "# Rename columns name into lowercase\n",
    "train.columns = [x.lower() for x in train.columns]"
   ]
  },
  {
   "cell_type": "code",
   "execution_count": 6,
   "id": "06d37577",
   "metadata": {
    "execution": {
     "iopub.execute_input": "2023-02-14T05:33:48.464350Z",
     "iopub.status.busy": "2023-02-14T05:33:48.463624Z",
     "iopub.status.idle": "2023-02-14T05:33:48.666339Z",
     "shell.execute_reply": "2023-02-14T05:33:48.665042Z"
    },
    "papermill": {
     "duration": 0.214024,
     "end_time": "2023-02-14T05:33:48.668795",
     "exception": false,
     "start_time": "2023-02-14T05:33:48.454771",
     "status": "completed"
    },
    "tags": []
   },
   "outputs": [
    {
     "data": {
      "image/png": "[encoded data removed]",
      "text/plain": [
       "<Figure size 432x288 with 1 Axes>"
      ]
     },
     "metadata": {
      "needs_background": "light"
     },
     "output_type": "display_data"
    },
    {
     "name": "stdout",
     "output_type": "stream",
     "text": [
      "Age mean: 29.69911764705882\n",
      "Age median: 28.0\n",
      "Age mode: 0    24.0\n",
      "dtype: float64\n"
     ]
    }
   ],
   "source": [
    "# Looking inside 'age' distribution\n",
    "plt.hist(train.age)\n",
    "plt.title('Passenger Age Distribution')\n",
    "plt.show()\n",
    "\n",
    "\n",
    "print('Age mean: {}'.format(train.age.mean()))\n",
    "print('Age median: {}'.format(train.age.median()))\n",
    "print('Age mode: {}'.format(train.age.mode()))\n",
    "\n"
   ]
  },
  {
   "cell_type": "code",
   "execution_count": 7,
   "id": "f297ab6b",
   "metadata": {
    "execution": {
     "iopub.execute_input": "2023-02-14T05:33:48.686523Z",
     "iopub.status.busy": "2023-02-14T05:33:48.686120Z",
     "iopub.status.idle": "2023-02-14T05:33:48.836917Z",
     "shell.execute_reply": "2023-02-14T05:33:48.835493Z"
    },
    "papermill": {
     "duration": 0.162274,
     "end_time": "2023-02-14T05:33:48.839230",
     "exception": false,
     "start_time": "2023-02-14T05:33:48.676956",
     "status": "completed"
    },
    "tags": []
   },
   "outputs": [
    {
     "data": {
      "image/png": "[encoded data removed]",
      "text/plain": [
       "<Figure size 432x288 with 1 Axes>"
      ]
     },
     "metadata": {
      "needs_background": "light"
     },
     "output_type": "display_data"
    },
    {
     "name": "stdout",
     "output_type": "stream",
     "text": [
      "fare mean: 32.204207968574636\n",
      "fare median: 14.4542\n",
      "fare mode: 0    8.05\n",
      "dtype: float64\n"
     ]
    }
   ],
   "source": [
    "# Looking inside 'fare' distribution\n",
    "plt.hist(train.fare)\n",
    "plt.title('Ticket Fare Distribution')\n",
    "plt.show()\n",
    "\n",
    "print('fare mean: {}'.format(train.fare.mean()))\n",
    "print('fare median: {}'.format(train.fare.median()))\n",
    "print('fare mode: {}'.format(train.fare.mode()))\n"
   ]
  },
  {
   "cell_type": "code",
   "execution_count": 8,
   "id": "9cf87c57",
   "metadata": {
    "execution": {
     "iopub.execute_input": "2023-02-14T05:33:48.857246Z",
     "iopub.status.busy": "2023-02-14T05:33:48.856880Z",
     "iopub.status.idle": "2023-02-14T05:33:48.862765Z",
     "shell.execute_reply": "2023-02-14T05:33:48.861952Z"
    },
    "papermill": {
     "duration": 0.017533,
     "end_time": "2023-02-14T05:33:48.864984",
     "exception": false,
     "start_time": "2023-02-14T05:33:48.847451",
     "status": "completed"
    },
    "tags": []
   },
   "outputs": [],
   "source": [
    "# Rename columns name into lowercase\n",
    "def rename_cols(df):\n",
    "    df.columns = [x.lower() for x in df.columns]\n",
    "    return df"
   ]
  },
  {
   "cell_type": "code",
   "execution_count": 9,
   "id": "3889595a",
   "metadata": {
    "execution": {
     "iopub.execute_input": "2023-02-14T05:33:48.884056Z",
     "iopub.status.busy": "2023-02-14T05:33:48.882783Z",
     "iopub.status.idle": "2023-02-14T05:33:48.888909Z",
     "shell.execute_reply": "2023-02-14T05:33:48.888028Z"
    },
    "papermill": {
     "duration": 0.018041,
     "end_time": "2023-02-14T05:33:48.891260",
     "exception": false,
     "start_time": "2023-02-14T05:33:48.873219",
     "status": "completed"
    },
    "tags": []
   },
   "outputs": [],
   "source": [
    "# Remove unwanted columns\n",
    "def remove_unwanted_cols(df):\n",
    "    df = df.drop(labels=removeable_features, axis=1)\n",
    "    return df"
   ]
  },
  {
   "cell_type": "code",
   "execution_count": 10,
   "id": "de129f73",
   "metadata": {
    "execution": {
     "iopub.execute_input": "2023-02-14T05:33:48.910227Z",
     "iopub.status.busy": "2023-02-14T05:33:48.909827Z",
     "iopub.status.idle": "2023-02-14T05:33:48.917040Z",
     "shell.execute_reply": "2023-02-14T05:33:48.915815Z"
    },
    "papermill": {
     "duration": 0.019547,
     "end_time": "2023-02-14T05:33:48.919354",
     "exception": false,
     "start_time": "2023-02-14T05:33:48.899807",
     "status": "completed"
    },
    "tags": []
   },
   "outputs": [],
   "source": [
    "# Filter out outliers\n",
    "def filter_outlier(df):\n",
    "    # Select the columns to filter out outliers\n",
    "    cols_to_filter = numerical_features\n",
    "\n",
    "    # Calculate the quartiles and interquartile range\n",
    "    Q1 = df[cols_to_filter].quantile(0.25)\n",
    "    Q3 = df[cols_to_filter].quantile(0.75)\n",
    "    IQR = Q3 - Q1\n",
    "\n",
    "    # Set the lower and upper thresholds\n",
    "    lower_threshold = Q1 - 1.5 * IQR\n",
    "    upper_threshold = Q3 + 1.5 * IQR\n",
    "\n",
    "    # Filter the df\n",
    "    df = df[~((df[cols_to_filter] < lower_threshold) | (df[cols_to_filter] > upper_threshold)).any(axis=1)]\n",
    "    \n",
    "    return df"
   ]
  },
  {
   "cell_type": "code",
   "execution_count": 11,
   "id": "d444abcb",
   "metadata": {
    "execution": {
     "iopub.execute_input": "2023-02-14T05:33:48.937720Z",
     "iopub.status.busy": "2023-02-14T05:33:48.937319Z",
     "iopub.status.idle": "2023-02-14T05:33:48.943475Z",
     "shell.execute_reply": "2023-02-14T05:33:48.942489Z"
    },
    "papermill": {
     "duration": 0.018114,
     "end_time": "2023-02-14T05:33:48.945814",
     "exception": false,
     "start_time": "2023-02-14T05:33:48.927700",
     "status": "completed"
    },
    "tags": []
   },
   "outputs": [],
   "source": [
    "def imputer(df):\n",
    "    # Missing values imputer\n",
    "    from sklearn.impute import SimpleImputer\n",
    "\n",
    "    # Create an imputer object with median strategy\n",
    "    imputer = SimpleImputer(strategy='median')\n",
    "\n",
    "    # Fit the imputer object on the age column\n",
    "    imputer.fit(df[numerical_features])\n",
    "\n",
    "    # Transform the age column\n",
    "    df[numerical_features] = imputer.transform(df[numerical_features])\n",
    "\n",
    "    return df"
   ]
  },
  {
   "cell_type": "code",
   "execution_count": 12,
   "id": "517f0203",
   "metadata": {
    "execution": {
     "iopub.execute_input": "2023-02-14T05:33:48.963984Z",
     "iopub.status.busy": "2023-02-14T05:33:48.963577Z",
     "iopub.status.idle": "2023-02-14T05:33:48.969411Z",
     "shell.execute_reply": "2023-02-14T05:33:48.968284Z"
    },
    "papermill": {
     "duration": 0.017557,
     "end_time": "2023-02-14T05:33:48.971675",
     "exception": false,
     "start_time": "2023-02-14T05:33:48.954118",
     "status": "completed"
    },
    "tags": []
   },
   "outputs": [],
   "source": [
    "# Apply One-hot encode\n",
    "def one_hot(df):\n",
    "    # Transform categorical features into dummies variables\n",
    "    df = pd.get_dummies(data=df, columns=categorical_features, drop_first=True)\n",
    "    return df"
   ]
  },
  {
   "cell_type": "code",
   "execution_count": 13,
   "id": "68976847",
   "metadata": {
    "execution": {
     "iopub.execute_input": "2023-02-14T05:33:48.990935Z",
     "iopub.status.busy": "2023-02-14T05:33:48.989681Z",
     "iopub.status.idle": "2023-02-14T05:33:48.996257Z",
     "shell.execute_reply": "2023-02-14T05:33:48.995359Z"
    },
    "papermill": {
     "duration": 0.01839,
     "end_time": "2023-02-14T05:33:48.998523",
     "exception": false,
     "start_time": "2023-02-14T05:33:48.980133",
     "status": "completed"
    },
    "tags": []
   },
   "outputs": [],
   "source": [
    "def scaler(df):\n",
    "    \n",
    "    from sklearn.preprocessing import StandardScaler\n",
    "\n",
    "    # Create standardscaler instace\n",
    "    scaler = StandardScaler()\n",
    "\n",
    "    # Fit the instace on the selected columns\n",
    "    scaler.fit(df[numerical_features])\n",
    "\n",
    "    # Transform the selected columns\n",
    "    df[numerical_features] = scaler.transform(df[numerical_features])\n",
    "    \n",
    "    return df"
   ]
  },
  {
   "cell_type": "markdown",
   "id": "5516bcc3",
   "metadata": {
    "papermill": {
     "duration": 0.008044,
     "end_time": "2023-02-14T05:33:49.014987",
     "exception": false,
     "start_time": "2023-02-14T05:33:49.006943",
     "status": "completed"
    },
    "tags": []
   },
   "source": [
    "### Machine Learning"
   ]
  },
  {
   "cell_type": "code",
   "execution_count": 14,
   "id": "c53f3c47",
   "metadata": {
    "execution": {
     "iopub.execute_input": "2023-02-14T05:33:49.033308Z",
     "iopub.status.busy": "2023-02-14T05:33:49.032919Z",
     "iopub.status.idle": "2023-02-14T05:33:49.047565Z",
     "shell.execute_reply": "2023-02-14T05:33:49.046794Z"
    },
    "papermill": {
     "duration": 0.02657,
     "end_time": "2023-02-14T05:33:49.049823",
     "exception": false,
     "start_time": "2023-02-14T05:33:49.023253",
     "status": "completed"
    },
    "tags": []
   },
   "outputs": [],
   "source": [
    "# Performing hyperparameter tuning\n",
    "def grid_search():\n",
    "    from sklearn.neighbors import KNeighborsClassifier\n",
    "    from sklearn.naive_bayes import GaussianNB\n",
    "    from sklearn.linear_model import SGDClassifier\n",
    "    from sklearn.model_selection import GridSearchCV, cross_val_score\n",
    "    from sklearn.ensemble import RandomForestClassifier\n",
    "    from sklearn.linear_model import LogisticRegression\n",
    "    from sklearn.svm import SVC\n",
    "\n",
    "    # Load the data\n",
    "    X_train, y_train = train.drop('survived', axis=1), train.survived\n",
    "\n",
    "    # Define the models to be used\n",
    "    models = {\n",
    "        'LogisticRegression': LogisticRegression(),\n",
    "        'SVC': SVC(),\n",
    "        'RandomForestClassifier': RandomForestClassifier(),\n",
    "        'KNeighborsClassifier': KNeighborsClassifier(),\n",
    "        'GaussianNB': GaussianNB(),\n",
    "        'SGDClassifier': SGDClassifier()\n",
    "    }\n",
    "\n",
    "    # Define the hyperparameters to be tuned\n",
    "    hyperparameters = {\n",
    "        'LogisticRegression': {'C': [0.1, 1, 10], 'penalty': ['l2']},\n",
    "        'SVC': {'C': [0.1, 1, 10], 'kernel': ['linear', 'rbf']},\n",
    "        'RandomForestClassifier': {'n_estimators': [50, 100, 200], 'max_depth': [None, 5, 10]},\n",
    "        'KNeighborsClassifier': {'n_neighbors': [20, 40, 80], 'weights': ['uniform', 'distance']},\n",
    "        'GaussianNB': {},\n",
    "        'SGDClassifier': {'loss': ['hinge', 'log_loss'], 'penalty': ['l1', 'l2', 'elasticnet']}\n",
    "    }\n",
    "\n",
    "    # Train and tune each model using GridSearchCV\n",
    "    for model_name, model in models.items():\n",
    "        gs = GridSearchCV(model, hyperparameters[model_name], cv=5, verbose=0)\n",
    "        gs.fit(X_train, y_train)\n",
    "        models[model_name] = gs\n",
    "\n",
    "    # Evaluate the models on the test set\n",
    "    for model_name, gs in models.items():\n",
    "        # Best score for each model\n",
    "        print(f'{model_name} best score: {gs.best_score_:.2f}')\n",
    "    print()\n",
    "    \n",
    "    for model_name, gs in models.items():\n",
    "        # Best parameters for each model\n",
    "        print(f'{model_name} best params: {gs.best_params_}')\n",
    "    print()\n",
    "        \n",
    "    for model_name, gs in models.items():\n",
    "        cv_score = cross_val_score(gs, X_train, y_train, cv=5)\n",
    "        print(f\"{model_name} Regression Accuracy: {cv_score.mean():.2f} (+/- {cv_score.std():.2f})\")\n",
    "\n",
    "    for model_name, gs in models.items():\n",
    "        # Best score for each model\n",
    "        models[model_name] = gs.best_score_   \n",
    "        \n",
    "    # Get the list of models and their corresponding best scores\n",
    "    model_names = list(models.keys())\n",
    "    best_scores = list(list(models.values()))\n",
    "\n",
    "    # Create a bar chart\n",
    "    plt.bar(model_names, best_scores)\n",
    "    plt.xlabel(\"Model\")\n",
    "    plt.ylabel(\"Mean Test Score\")\n",
    "    plt.title(\"Model Tuning Results\")\n",
    "    plt.xticks(rotation=45)\n",
    "    plt.ylim(0.7, 0.9)\n",
    "    plt.show()"
   ]
  },
  {
   "cell_type": "code",
   "execution_count": 15,
   "id": "a7a71202",
   "metadata": {
    "execution": {
     "iopub.execute_input": "2023-02-14T05:33:49.068614Z",
     "iopub.status.busy": "2023-02-14T05:33:49.067387Z",
     "iopub.status.idle": "2023-02-14T05:34:53.394975Z",
     "shell.execute_reply": "2023-02-14T05:34:53.393608Z"
    },
    "papermill": {
     "duration": 64.339175,
     "end_time": "2023-02-14T05:34:53.397290",
     "exception": false,
     "start_time": "2023-02-14T05:33:49.058115",
     "status": "completed"
    },
    "tags": []
   },
   "outputs": [
    {
     "name": "stdout",
     "output_type": "stream",
     "text": [
      "LogisticRegression best score: 0.80\n",
      "SVC best score: 0.81\n",
      "RandomForestClassifier best score: 0.82\n",
      "KNeighborsClassifier best score: 0.79\n",
      "GaussianNB best score: 0.37\n",
      "SGDClassifier best score: 0.77\n",
      "\n",
      "LogisticRegression best params: {'C': 10, 'penalty': 'l2'}\n",
      "SVC best params: {'C': 1, 'kernel': 'rbf'}\n",
      "RandomForestClassifier best params: {'max_depth': 10, 'n_estimators': 50}\n",
      "KNeighborsClassifier best params: {'n_neighbors': 20, 'weights': 'uniform'}\n",
      "GaussianNB best params: {}\n",
      "SGDClassifier best params: {'loss': 'hinge', 'penalty': 'l1'}\n",
      "\n",
      "LogisticRegression Regression Accuracy: 0.79 (+/- 0.02)\n",
      "SVC Regression Accuracy: 0.81 (+/- 0.01)\n",
      "RandomForestClassifier Regression Accuracy: 0.81 (+/- 0.03)\n",
      "KNeighborsClassifier Regression Accuracy: 0.79 (+/- 0.03)\n",
      "GaussianNB Regression Accuracy: 0.37 (+/- 0.01)\n",
      "SGDClassifier Regression Accuracy: 0.77 (+/- 0.03)\n"
     ]
    },
    {
     "data": {
      "image/png": "[encoded data removed]",
      "text/plain": [
       "<Figure size 432x288 with 1 Axes>"
      ]
     },
     "metadata": {
      "needs_background": "light"
     },
     "output_type": "display_data"
    },
    {
     "name": "stdout",
     "output_type": "stream",
     "text": [
      "Time elapsed:  64.31863570213318\n"
     ]
    }
   ],
   "source": [
    "import time\n",
    "start_time = time.time()\n",
    "\n",
    "# Load data\n",
    "train = pd.read_csv('/kaggle/input/titanic/train.csv').copy()\n",
    "test = pd.read_csv('/kaggle/input/titanic/test.csv').copy()\n",
    "\n",
    "# Data cleaning and preprocessing\n",
    "train = rename_cols(train)\n",
    "train = remove_unwanted_cols(train)\n",
    "train = filter_outlier(train)\n",
    "train = imputer(train)\n",
    "train = one_hot(train)\n",
    "train = scaler(train)\n",
    "\n",
    "# Performing hyperparameter tuning\n",
    "grid_search()\n",
    "\n",
    "end_time = time.time()\n",
    "time_elapsed = end_time - start_time\n",
    "print(\"Time elapsed: \", time_elapsed)"
   ]
  },
  {
   "cell_type": "code",
   "execution_count": 16,
   "id": "936e7b0f",
   "metadata": {
    "execution": {
     "iopub.execute_input": "2023-02-14T05:34:53.418861Z",
     "iopub.status.busy": "2023-02-14T05:34:53.418461Z",
     "iopub.status.idle": "2023-02-14T05:34:53.429721Z",
     "shell.execute_reply": "2023-02-14T05:34:53.428773Z"
    },
    "papermill": {
     "duration": 0.024598,
     "end_time": "2023-02-14T05:34:53.431972",
     "exception": false,
     "start_time": "2023-02-14T05:34:53.407374",
     "status": "completed"
    },
    "tags": []
   },
   "outputs": [],
   "source": [
    "def run_models(gen=False):\n",
    "    # Model training, predict, and evaluate\n",
    "    import numpy as np\n",
    "    from sklearn.model_selection import train_test_split\n",
    "    from sklearn.metrics import accuracy_score, precision_score, recall_score\n",
    "    from sklearn.linear_model import LogisticRegression\n",
    "    from sklearn.svm import SVC\n",
    "    from sklearn.ensemble import RandomForestClassifier\n",
    "\n",
    "    # Load the data\n",
    "    X_train, y_train = train.drop('survived', axis=1), train.survived\n",
    "    X_test = test\n",
    "    \n",
    "    # Initialize the models\n",
    "    models = {'Logistic Regression': LogisticRegression(C=10, fit_intercept=True, max_iter=100, penalty='l2'),\n",
    "              'Support Vector Machine': SVC(C=1, kernel='rbf'),\n",
    "              'Random Forest': RandomForestClassifier(criterion='entropy', n_estimators=50, max_depth=10, random_state=21)}\n",
    "\n",
    "    # Iterate over the models\n",
    "    for name, model in models.items():\n",
    "        # Train the model\n",
    "        model.fit(X_train, y_train)\n",
    "        \n",
    "        # Predict on the test set\n",
    "        y_pred = model.predict(X_test)\n",
    "       \n",
    "        if gen == False :\n",
    "            pass\n",
    "        else:\n",
    "            # Create .csv predict result\n",
    "            result_dict = {'PassengerId':pd.read_csv('/kaggle/input/titanic/test.csv').copy().PassengerId,\n",
    "                           'Survived': y_pred}\n",
    "            df = pd.DataFrame(result_dict)\n",
    "            df.to_csv('/kaggle/working/{}.csv'.format(name),index=False)\n",
    "            print(\"Create .csv Model: {} --> Done\".format(name))\n",
    "            print()\n",
    "        "
   ]
  },
  {
   "cell_type": "code",
   "execution_count": 17,
   "id": "1026b756",
   "metadata": {
    "execution": {
     "iopub.execute_input": "2023-02-14T05:34:53.452361Z",
     "iopub.status.busy": "2023-02-14T05:34:53.451986Z",
     "iopub.status.idle": "2023-02-14T05:34:53.765238Z",
     "shell.execute_reply": "2023-02-14T05:34:53.764141Z"
    },
    "papermill": {
     "duration": 0.325992,
     "end_time": "2023-02-14T05:34:53.767561",
     "exception": false,
     "start_time": "2023-02-14T05:34:53.441569",
     "status": "completed"
    },
    "tags": []
   },
   "outputs": [
    {
     "name": "stdout",
     "output_type": "stream",
     "text": [
      "Create .csv Model: Logistic Regression --> Done\n",
      "\n",
      "Create .csv Model: Support Vector Machine --> Done\n",
      "\n",
      "Create .csv Model: Random Forest --> Done\n",
      "\n"
     ]
    }
   ],
   "source": [
    "# Load data\n",
    "train = pd.read_csv('/kaggle/input/titanic/train.csv').copy()\n",
    "test = pd.read_csv('/kaggle/input/titanic/test.csv').copy()\n",
    "\n",
    "# Data cleaning and preprocessing\n",
    "train = rename_cols(train)\n",
    "train = remove_unwanted_cols(train)\n",
    "train = filter_outlier(train)\n",
    "train = imputer(train)\n",
    "train = one_hot(train)\n",
    "train = scaler(train)\n",
    "test = rename_cols(test)\n",
    "test = remove_unwanted_cols(test)\n",
    "test = imputer(test)\n",
    "test = one_hot(test)\n",
    "test = scaler(test)\n",
    "test = test.drop(['sibsp_8', 'parch_9'], axis=1)\n",
    "\n",
    "# Train and elevauate the model\n",
    "run_models(gen=True) # gen=True will return predicted result as .csv file"
   ]
  },
  {
   "cell_type": "markdown",
   "id": "d2f650f8",
   "metadata": {
    "papermill": {
     "duration": 0.009208,
     "end_time": "2023-02-14T05:34:53.786246",
     "exception": false,
     "start_time": "2023-02-14T05:34:53.777038",
     "status": "completed"
    },
    "tags": []
   },
   "source": [
    "# Neural Network"
   ]
  },
  {
   "cell_type": "code",
   "execution_count": 18,
   "id": "de43e543",
   "metadata": {
    "execution": {
     "iopub.execute_input": "2023-02-14T05:34:53.806715Z",
     "iopub.status.busy": "2023-02-14T05:34:53.806118Z",
     "iopub.status.idle": "2023-02-14T05:34:53.826307Z",
     "shell.execute_reply": "2023-02-14T05:34:53.825314Z"
    },
    "papermill": {
     "duration": 0.033044,
     "end_time": "2023-02-14T05:34:53.828528",
     "exception": false,
     "start_time": "2023-02-14T05:34:53.795484",
     "status": "completed"
    },
    "tags": []
   },
   "outputs": [
    {
     "data": {
      "text/html": [
       "<div>\n",
       "<style scoped>\n",
       "    .dataframe tbody tr th:only-of-type {\n",
       "        vertical-align: middle;\n",
       "    }\n",
       "\n",
       "    .dataframe tbody tr th {\n",
       "        vertical-align: top;\n",
       "    }\n",
       "\n",
       "    .dataframe thead th {\n",
       "        text-align: right;\n",
       "    }\n",
       "</style>\n",
       "<table border=\"1\" class=\"dataframe\">\n",
       "  <thead>\n",
       "    <tr style=\"text-align: right;\">\n",
       "      <th></th>\n",
       "      <th>survived</th>\n",
       "      <th>age</th>\n",
       "      <th>fare</th>\n",
       "      <th>pclass_2</th>\n",
       "      <th>pclass_3</th>\n",
       "      <th>sex_male</th>\n",
       "      <th>sibsp_1</th>\n",
       "      <th>sibsp_2</th>\n",
       "      <th>sibsp_3</th>\n",
       "      <th>sibsp_4</th>\n",
       "      <th>sibsp_5</th>\n",
       "      <th>parch_1</th>\n",
       "      <th>parch_2</th>\n",
       "      <th>parch_3</th>\n",
       "      <th>parch_4</th>\n",
       "      <th>parch_5</th>\n",
       "      <th>parch_6</th>\n",
       "      <th>embarked_Q</th>\n",
       "      <th>embarked_S</th>\n",
       "    </tr>\n",
       "  </thead>\n",
       "  <tbody>\n",
       "    <tr>\n",
       "      <th>0</th>\n",
       "      <td>0</td>\n",
       "      <td>-0.519955</td>\n",
       "      <td>-0.778143</td>\n",
       "      <td>0</td>\n",
       "      <td>1</td>\n",
       "      <td>1</td>\n",
       "      <td>1</td>\n",
       "      <td>0</td>\n",
       "      <td>0</td>\n",
       "      <td>0</td>\n",
       "      <td>0</td>\n",
       "      <td>0</td>\n",
       "      <td>0</td>\n",
       "      <td>0</td>\n",
       "      <td>0</td>\n",
       "      <td>0</td>\n",
       "      <td>0</td>\n",
       "      <td>0</td>\n",
       "      <td>1</td>\n",
       "    </tr>\n",
       "    <tr>\n",
       "      <th>2</th>\n",
       "      <td>1</td>\n",
       "      <td>-0.185188</td>\n",
       "      <td>-0.728035</td>\n",
       "      <td>0</td>\n",
       "      <td>1</td>\n",
       "      <td>0</td>\n",
       "      <td>0</td>\n",
       "      <td>0</td>\n",
       "      <td>0</td>\n",
       "      <td>0</td>\n",
       "      <td>0</td>\n",
       "      <td>0</td>\n",
       "      <td>0</td>\n",
       "      <td>0</td>\n",
       "      <td>0</td>\n",
       "      <td>0</td>\n",
       "      <td>0</td>\n",
       "      <td>0</td>\n",
       "      <td>1</td>\n",
       "    </tr>\n",
       "    <tr>\n",
       "      <th>3</th>\n",
       "      <td>1</td>\n",
       "      <td>0.568037</td>\n",
       "      <td>2.625508</td>\n",
       "      <td>0</td>\n",
       "      <td>0</td>\n",
       "      <td>0</td>\n",
       "      <td>1</td>\n",
       "      <td>0</td>\n",
       "      <td>0</td>\n",
       "      <td>0</td>\n",
       "      <td>0</td>\n",
       "      <td>0</td>\n",
       "      <td>0</td>\n",
       "      <td>0</td>\n",
       "      <td>0</td>\n",
       "      <td>0</td>\n",
       "      <td>0</td>\n",
       "      <td>0</td>\n",
       "      <td>1</td>\n",
       "    </tr>\n",
       "    <tr>\n",
       "      <th>4</th>\n",
       "      <td>0</td>\n",
       "      <td>0.568037</td>\n",
       "      <td>-0.718755</td>\n",
       "      <td>0</td>\n",
       "      <td>1</td>\n",
       "      <td>1</td>\n",
       "      <td>0</td>\n",
       "      <td>0</td>\n",
       "      <td>0</td>\n",
       "      <td>0</td>\n",
       "      <td>0</td>\n",
       "      <td>0</td>\n",
       "      <td>0</td>\n",
       "      <td>0</td>\n",
       "      <td>0</td>\n",
       "      <td>0</td>\n",
       "      <td>0</td>\n",
       "      <td>0</td>\n",
       "      <td>1</td>\n",
       "    </tr>\n",
       "    <tr>\n",
       "      <th>5</th>\n",
       "      <td>0</td>\n",
       "      <td>-0.017805</td>\n",
       "      <td>-0.688445</td>\n",
       "      <td>0</td>\n",
       "      <td>1</td>\n",
       "      <td>1</td>\n",
       "      <td>0</td>\n",
       "      <td>0</td>\n",
       "      <td>0</td>\n",
       "      <td>0</td>\n",
       "      <td>0</td>\n",
       "      <td>0</td>\n",
       "      <td>0</td>\n",
       "      <td>0</td>\n",
       "      <td>0</td>\n",
       "      <td>0</td>\n",
       "      <td>0</td>\n",
       "      <td>1</td>\n",
       "      <td>0</td>\n",
       "    </tr>\n",
       "  </tbody>\n",
       "</table>\n",
       "</div>"
      ],
      "text/plain": [
       "   survived       age      fare  pclass_2  pclass_3  sex_male  sibsp_1  \\\n",
       "0         0 -0.519955 -0.778143         0         1         1        1   \n",
       "2         1 -0.185188 -0.728035         0         1         0        0   \n",
       "3         1  0.568037  2.625508         0         0         0        1   \n",
       "4         0  0.568037 -0.718755         0         1         1        0   \n",
       "5         0 -0.017805 -0.688445         0         1         1        0   \n",
       "\n",
       "   sibsp_2  sibsp_3  sibsp_4  sibsp_5  parch_1  parch_2  parch_3  parch_4  \\\n",
       "0        0        0        0        0        0        0        0        0   \n",
       "2        0        0        0        0        0        0        0        0   \n",
       "3        0        0        0        0        0        0        0        0   \n",
       "4        0        0        0        0        0        0        0        0   \n",
       "5        0        0        0        0        0        0        0        0   \n",
       "\n",
       "   parch_5  parch_6  embarked_Q  embarked_S  \n",
       "0        0        0           0           1  \n",
       "2        0        0           0           1  \n",
       "3        0        0           0           1  \n",
       "4        0        0           0           1  \n",
       "5        0        0           1           0  "
      ]
     },
     "execution_count": 18,
     "metadata": {},
     "output_type": "execute_result"
    }
   ],
   "source": [
    "train.head()"
   ]
  },
  {
   "cell_type": "code",
   "execution_count": 19,
   "id": "6dcf78be",
   "metadata": {
    "execution": {
     "iopub.execute_input": "2023-02-14T05:34:53.850010Z",
     "iopub.status.busy": "2023-02-14T05:34:53.849342Z",
     "iopub.status.idle": "2023-02-14T05:34:53.856287Z",
     "shell.execute_reply": "2023-02-14T05:34:53.855233Z"
    },
    "papermill": {
     "duration": 0.020147,
     "end_time": "2023-02-14T05:34:53.858499",
     "exception": false,
     "start_time": "2023-02-14T05:34:53.838352",
     "status": "completed"
    },
    "tags": []
   },
   "outputs": [
    {
     "data": {
      "text/plain": [
       "(765, 19)"
      ]
     },
     "execution_count": 19,
     "metadata": {},
     "output_type": "execute_result"
    }
   ],
   "source": [
    "train.shape"
   ]
  },
  {
   "cell_type": "code",
   "execution_count": 20,
   "id": "25d041df",
   "metadata": {
    "execution": {
     "iopub.execute_input": "2023-02-14T05:34:53.879867Z",
     "iopub.status.busy": "2023-02-14T05:34:53.879087Z",
     "iopub.status.idle": "2023-02-14T05:34:53.900751Z",
     "shell.execute_reply": "2023-02-14T05:34:53.899640Z"
    },
    "papermill": {
     "duration": 0.03482,
     "end_time": "2023-02-14T05:34:53.903027",
     "exception": false,
     "start_time": "2023-02-14T05:34:53.868207",
     "status": "completed"
    },
    "tags": []
   },
   "outputs": [
    {
     "data": {
      "text/html": [
       "<div>\n",
       "<style scoped>\n",
       "    .dataframe tbody tr th:only-of-type {\n",
       "        vertical-align: middle;\n",
       "    }\n",
       "\n",
       "    .dataframe tbody tr th {\n",
       "        vertical-align: top;\n",
       "    }\n",
       "\n",
       "    .dataframe thead th {\n",
       "        text-align: right;\n",
       "    }\n",
       "</style>\n",
       "<table border=\"1\" class=\"dataframe\">\n",
       "  <thead>\n",
       "    <tr style=\"text-align: right;\">\n",
       "      <th></th>\n",
       "      <th>age</th>\n",
       "      <th>fare</th>\n",
       "      <th>pclass_2</th>\n",
       "      <th>pclass_3</th>\n",
       "      <th>sex_male</th>\n",
       "      <th>sibsp_1</th>\n",
       "      <th>sibsp_2</th>\n",
       "      <th>sibsp_3</th>\n",
       "      <th>sibsp_4</th>\n",
       "      <th>sibsp_5</th>\n",
       "      <th>parch_1</th>\n",
       "      <th>parch_2</th>\n",
       "      <th>parch_3</th>\n",
       "      <th>parch_4</th>\n",
       "      <th>parch_5</th>\n",
       "      <th>parch_6</th>\n",
       "      <th>embarked_Q</th>\n",
       "      <th>embarked_S</th>\n",
       "    </tr>\n",
       "  </thead>\n",
       "  <tbody>\n",
       "    <tr>\n",
       "      <th>0</th>\n",
       "      <td>0.386231</td>\n",
       "      <td>-0.497413</td>\n",
       "      <td>0</td>\n",
       "      <td>1</td>\n",
       "      <td>1</td>\n",
       "      <td>0</td>\n",
       "      <td>0</td>\n",
       "      <td>0</td>\n",
       "      <td>0</td>\n",
       "      <td>0</td>\n",
       "      <td>0</td>\n",
       "      <td>0</td>\n",
       "      <td>0</td>\n",
       "      <td>0</td>\n",
       "      <td>0</td>\n",
       "      <td>0</td>\n",
       "      <td>1</td>\n",
       "      <td>0</td>\n",
       "    </tr>\n",
       "    <tr>\n",
       "      <th>1</th>\n",
       "      <td>1.371370</td>\n",
       "      <td>-0.512278</td>\n",
       "      <td>0</td>\n",
       "      <td>1</td>\n",
       "      <td>0</td>\n",
       "      <td>1</td>\n",
       "      <td>0</td>\n",
       "      <td>0</td>\n",
       "      <td>0</td>\n",
       "      <td>0</td>\n",
       "      <td>0</td>\n",
       "      <td>0</td>\n",
       "      <td>0</td>\n",
       "      <td>0</td>\n",
       "      <td>0</td>\n",
       "      <td>0</td>\n",
       "      <td>0</td>\n",
       "      <td>1</td>\n",
       "    </tr>\n",
       "    <tr>\n",
       "      <th>2</th>\n",
       "      <td>2.553537</td>\n",
       "      <td>-0.464100</td>\n",
       "      <td>1</td>\n",
       "      <td>0</td>\n",
       "      <td>1</td>\n",
       "      <td>0</td>\n",
       "      <td>0</td>\n",
       "      <td>0</td>\n",
       "      <td>0</td>\n",
       "      <td>0</td>\n",
       "      <td>0</td>\n",
       "      <td>0</td>\n",
       "      <td>0</td>\n",
       "      <td>0</td>\n",
       "      <td>0</td>\n",
       "      <td>0</td>\n",
       "      <td>1</td>\n",
       "      <td>0</td>\n",
       "    </tr>\n",
       "    <tr>\n",
       "      <th>3</th>\n",
       "      <td>-0.204852</td>\n",
       "      <td>-0.482475</td>\n",
       "      <td>0</td>\n",
       "      <td>1</td>\n",
       "      <td>1</td>\n",
       "      <td>0</td>\n",
       "      <td>0</td>\n",
       "      <td>0</td>\n",
       "      <td>0</td>\n",
       "      <td>0</td>\n",
       "      <td>0</td>\n",
       "      <td>0</td>\n",
       "      <td>0</td>\n",
       "      <td>0</td>\n",
       "      <td>0</td>\n",
       "      <td>0</td>\n",
       "      <td>0</td>\n",
       "      <td>1</td>\n",
       "    </tr>\n",
       "    <tr>\n",
       "      <th>4</th>\n",
       "      <td>-0.598908</td>\n",
       "      <td>-0.417492</td>\n",
       "      <td>0</td>\n",
       "      <td>1</td>\n",
       "      <td>0</td>\n",
       "      <td>1</td>\n",
       "      <td>0</td>\n",
       "      <td>0</td>\n",
       "      <td>0</td>\n",
       "      <td>0</td>\n",
       "      <td>1</td>\n",
       "      <td>0</td>\n",
       "      <td>0</td>\n",
       "      <td>0</td>\n",
       "      <td>0</td>\n",
       "      <td>0</td>\n",
       "      <td>0</td>\n",
       "      <td>1</td>\n",
       "    </tr>\n",
       "    <tr>\n",
       "      <th>...</th>\n",
       "      <td>...</td>\n",
       "      <td>...</td>\n",
       "      <td>...</td>\n",
       "      <td>...</td>\n",
       "      <td>...</td>\n",
       "      <td>...</td>\n",
       "      <td>...</td>\n",
       "      <td>...</td>\n",
       "      <td>...</td>\n",
       "      <td>...</td>\n",
       "      <td>...</td>\n",
       "      <td>...</td>\n",
       "      <td>...</td>\n",
       "      <td>...</td>\n",
       "      <td>...</td>\n",
       "      <td>...</td>\n",
       "      <td>...</td>\n",
       "      <td>...</td>\n",
       "    </tr>\n",
       "    <tr>\n",
       "      <th>413</th>\n",
       "      <td>-0.204852</td>\n",
       "      <td>-0.493455</td>\n",
       "      <td>0</td>\n",
       "      <td>1</td>\n",
       "      <td>1</td>\n",
       "      <td>0</td>\n",
       "      <td>0</td>\n",
       "      <td>0</td>\n",
       "      <td>0</td>\n",
       "      <td>0</td>\n",
       "      <td>0</td>\n",
       "      <td>0</td>\n",
       "      <td>0</td>\n",
       "      <td>0</td>\n",
       "      <td>0</td>\n",
       "      <td>0</td>\n",
       "      <td>0</td>\n",
       "      <td>1</td>\n",
       "    </tr>\n",
       "    <tr>\n",
       "      <th>414</th>\n",
       "      <td>0.740881</td>\n",
       "      <td>1.314435</td>\n",
       "      <td>0</td>\n",
       "      <td>0</td>\n",
       "      <td>0</td>\n",
       "      <td>0</td>\n",
       "      <td>0</td>\n",
       "      <td>0</td>\n",
       "      <td>0</td>\n",
       "      <td>0</td>\n",
       "      <td>0</td>\n",
       "      <td>0</td>\n",
       "      <td>0</td>\n",
       "      <td>0</td>\n",
       "      <td>0</td>\n",
       "      <td>0</td>\n",
       "      <td>0</td>\n",
       "      <td>0</td>\n",
       "    </tr>\n",
       "    <tr>\n",
       "      <th>415</th>\n",
       "      <td>0.701476</td>\n",
       "      <td>-0.507796</td>\n",
       "      <td>0</td>\n",
       "      <td>1</td>\n",
       "      <td>1</td>\n",
       "      <td>0</td>\n",
       "      <td>0</td>\n",
       "      <td>0</td>\n",
       "      <td>0</td>\n",
       "      <td>0</td>\n",
       "      <td>0</td>\n",
       "      <td>0</td>\n",
       "      <td>0</td>\n",
       "      <td>0</td>\n",
       "      <td>0</td>\n",
       "      <td>0</td>\n",
       "      <td>0</td>\n",
       "      <td>1</td>\n",
       "    </tr>\n",
       "    <tr>\n",
       "      <th>416</th>\n",
       "      <td>-0.204852</td>\n",
       "      <td>-0.493455</td>\n",
       "      <td>0</td>\n",
       "      <td>1</td>\n",
       "      <td>1</td>\n",
       "      <td>0</td>\n",
       "      <td>0</td>\n",
       "      <td>0</td>\n",
       "      <td>0</td>\n",
       "      <td>0</td>\n",
       "      <td>0</td>\n",
       "      <td>0</td>\n",
       "      <td>0</td>\n",
       "      <td>0</td>\n",
       "      <td>0</td>\n",
       "      <td>0</td>\n",
       "      <td>0</td>\n",
       "      <td>1</td>\n",
       "    </tr>\n",
       "    <tr>\n",
       "      <th>417</th>\n",
       "      <td>-0.204852</td>\n",
       "      <td>-0.236957</td>\n",
       "      <td>0</td>\n",
       "      <td>1</td>\n",
       "      <td>1</td>\n",
       "      <td>1</td>\n",
       "      <td>0</td>\n",
       "      <td>0</td>\n",
       "      <td>0</td>\n",
       "      <td>0</td>\n",
       "      <td>1</td>\n",
       "      <td>0</td>\n",
       "      <td>0</td>\n",
       "      <td>0</td>\n",
       "      <td>0</td>\n",
       "      <td>0</td>\n",
       "      <td>0</td>\n",
       "      <td>0</td>\n",
       "    </tr>\n",
       "  </tbody>\n",
       "</table>\n",
       "<p>418 rows × 18 columns</p>\n",
       "</div>"
      ],
      "text/plain": [
       "          age      fare  pclass_2  pclass_3  sex_male  sibsp_1  sibsp_2  \\\n",
       "0    0.386231 -0.497413         0         1         1        0        0   \n",
       "1    1.371370 -0.512278         0         1         0        1        0   \n",
       "2    2.553537 -0.464100         1         0         1        0        0   \n",
       "3   -0.204852 -0.482475         0         1         1        0        0   \n",
       "4   -0.598908 -0.417492         0         1         0        1        0   \n",
       "..        ...       ...       ...       ...       ...      ...      ...   \n",
       "413 -0.204852 -0.493455         0         1         1        0        0   \n",
       "414  0.740881  1.314435         0         0         0        0        0   \n",
       "415  0.701476 -0.507796         0         1         1        0        0   \n",
       "416 -0.204852 -0.493455         0         1         1        0        0   \n",
       "417 -0.204852 -0.236957         0         1         1        1        0   \n",
       "\n",
       "     sibsp_3  sibsp_4  sibsp_5  parch_1  parch_2  parch_3  parch_4  parch_5  \\\n",
       "0          0        0        0        0        0        0        0        0   \n",
       "1          0        0        0        0        0        0        0        0   \n",
       "2          0        0        0        0        0        0        0        0   \n",
       "3          0        0        0        0        0        0        0        0   \n",
       "4          0        0        0        1        0        0        0        0   \n",
       "..       ...      ...      ...      ...      ...      ...      ...      ...   \n",
       "413        0        0        0        0        0        0        0        0   \n",
       "414        0        0        0        0        0        0        0        0   \n",
       "415        0        0        0        0        0        0        0        0   \n",
       "416        0        0        0        0        0        0        0        0   \n",
       "417        0        0        0        1        0        0        0        0   \n",
       "\n",
       "     parch_6  embarked_Q  embarked_S  \n",
       "0          0           1           0  \n",
       "1          0           0           1  \n",
       "2          0           1           0  \n",
       "3          0           0           1  \n",
       "4          0           0           1  \n",
       "..       ...         ...         ...  \n",
       "413        0           0           1  \n",
       "414        0           0           0  \n",
       "415        0           0           1  \n",
       "416        0           0           1  \n",
       "417        0           0           0  \n",
       "\n",
       "[418 rows x 18 columns]"
      ]
     },
     "execution_count": 20,
     "metadata": {},
     "output_type": "execute_result"
    }
   ],
   "source": [
    "test"
   ]
  },
  {
   "cell_type": "code",
   "execution_count": 21,
   "id": "94b27323",
   "metadata": {
    "execution": {
     "iopub.execute_input": "2023-02-14T05:34:53.925522Z",
     "iopub.status.busy": "2023-02-14T05:34:53.925153Z",
     "iopub.status.idle": "2023-02-14T05:34:53.930600Z",
     "shell.execute_reply": "2023-02-14T05:34:53.929461Z"
    },
    "papermill": {
     "duration": 0.019314,
     "end_time": "2023-02-14T05:34:53.932723",
     "exception": false,
     "start_time": "2023-02-14T05:34:53.913409",
     "status": "completed"
    },
    "tags": []
   },
   "outputs": [
    {
     "name": "stdout",
     "output_type": "stream",
     "text": [
      "(765, 19)\n",
      "(418, 18)\n"
     ]
    }
   ],
   "source": [
    "print(train.shape)\n",
    "print(test.shape)"
   ]
  },
  {
   "cell_type": "code",
   "execution_count": 22,
   "id": "11911513",
   "metadata": {
    "execution": {
     "iopub.execute_input": "2023-02-14T05:34:53.955160Z",
     "iopub.status.busy": "2023-02-14T05:34:53.954775Z",
     "iopub.status.idle": "2023-02-14T05:35:02.163347Z",
     "shell.execute_reply": "2023-02-14T05:35:02.162186Z"
    },
    "papermill": {
     "duration": 8.222576,
     "end_time": "2023-02-14T05:35:02.165802",
     "exception": false,
     "start_time": "2023-02-14T05:34:53.943226",
     "status": "completed"
    },
    "tags": []
   },
   "outputs": [
    {
     "name": "stderr",
     "output_type": "stream",
     "text": [
      "2023-02-14 05:34:59.468853: I tensorflow/core/common_runtime/process_util.cc:146] Creating new thread pool with default inter op setting: 2. Tune using inter_op_parallelism_threads for best performance.\n",
      "2023-02-14 05:34:59.627963: I tensorflow/compiler/mlir/mlir_graph_optimization_pass.cc:185] None of the MLIR Optimization Passes are enabled (registered 2)\n"
     ]
    },
    {
     "name": "stdout",
     "output_type": "stream",
     "text": [
      "Epoch 1/30\n",
      "20/20 [==============================] - 1s 14ms/step - loss: 0.6271 - accuracy: 0.6797 - val_loss: 0.5392 - val_accuracy: 0.7451\n",
      "Epoch 2/30\n",
      "20/20 [==============================] - 0s 4ms/step - loss: 0.5487 - accuracy: 0.7320 - val_loss: 0.4858 - val_accuracy: 0.7908\n",
      "Epoch 3/30\n",
      "20/20 [==============================] - 0s 3ms/step - loss: 0.5141 - accuracy: 0.7631 - val_loss: 0.4572 - val_accuracy: 0.8235\n",
      "Epoch 4/30\n",
      "20/20 [==============================] - 0s 3ms/step - loss: 0.4907 - accuracy: 0.7614 - val_loss: 0.4410 - val_accuracy: 0.8105\n",
      "Epoch 5/30\n",
      "20/20 [==============================] - 0s 4ms/step - loss: 0.4755 - accuracy: 0.7941 - val_loss: 0.4298 - val_accuracy: 0.8170\n",
      "Epoch 6/30\n",
      "20/20 [==============================] - 0s 3ms/step - loss: 0.4661 - accuracy: 0.8039 - val_loss: 0.4249 - val_accuracy: 0.7908\n",
      "Epoch 7/30\n",
      "20/20 [==============================] - 0s 4ms/step - loss: 0.4560 - accuracy: 0.7941 - val_loss: 0.4203 - val_accuracy: 0.8170\n",
      "Epoch 8/30\n",
      "20/20 [==============================] - 0s 4ms/step - loss: 0.4515 - accuracy: 0.8088 - val_loss: 0.4128 - val_accuracy: 0.8170\n",
      "Epoch 9/30\n",
      "20/20 [==============================] - 0s 4ms/step - loss: 0.4471 - accuracy: 0.7941 - val_loss: 0.4116 - val_accuracy: 0.8105\n",
      "Epoch 10/30\n",
      "20/20 [==============================] - 0s 4ms/step - loss: 0.4422 - accuracy: 0.8088 - val_loss: 0.4092 - val_accuracy: 0.8170\n",
      "Epoch 11/30\n",
      "20/20 [==============================] - 0s 4ms/step - loss: 0.4387 - accuracy: 0.8072 - val_loss: 0.4063 - val_accuracy: 0.8235\n",
      "Epoch 12/30\n",
      "20/20 [==============================] - 0s 4ms/step - loss: 0.4358 - accuracy: 0.8154 - val_loss: 0.4065 - val_accuracy: 0.8039\n",
      "Epoch 13/30\n",
      "20/20 [==============================] - 0s 4ms/step - loss: 0.4337 - accuracy: 0.8023 - val_loss: 0.4029 - val_accuracy: 0.8170\n",
      "Epoch 14/30\n",
      "20/20 [==============================] - 0s 4ms/step - loss: 0.4269 - accuracy: 0.8137 - val_loss: 0.3973 - val_accuracy: 0.8170\n",
      "Epoch 15/30\n",
      "20/20 [==============================] - 0s 4ms/step - loss: 0.4214 - accuracy: 0.8137 - val_loss: 0.3967 - val_accuracy: 0.8301\n",
      "Epoch 16/30\n",
      "20/20 [==============================] - 0s 4ms/step - loss: 0.4239 - accuracy: 0.8056 - val_loss: 0.3896 - val_accuracy: 0.8366\n",
      "Epoch 17/30\n",
      "20/20 [==============================] - 0s 4ms/step - loss: 0.4178 - accuracy: 0.8137 - val_loss: 0.3856 - val_accuracy: 0.8497\n",
      "Epoch 18/30\n",
      "20/20 [==============================] - 0s 3ms/step - loss: 0.4172 - accuracy: 0.8072 - val_loss: 0.3880 - val_accuracy: 0.8301\n",
      "Epoch 19/30\n",
      "20/20 [==============================] - 0s 3ms/step - loss: 0.4136 - accuracy: 0.8154 - val_loss: 0.3891 - val_accuracy: 0.8366\n"
     ]
    },
    {
     "data": {
      "image/png": "[encoded data removed]",
      "text/plain": [
       "<Figure size 432x288 with 1 Axes>"
      ]
     },
     "metadata": {
      "needs_background": "light"
     },
     "output_type": "display_data"
    },
    {
     "name": "stdout",
     "output_type": "stream",
     "text": [
      "0.8496732115745544\n"
     ]
    }
   ],
   "source": [
    "import tensorflow as tf\n",
    "from tensorflow.keras.callbacks import EarlyStopping\n",
    "\n",
    "tf.random.set_seed(42)\n",
    "\n",
    "\n",
    "X_train = train.drop('survived', axis=1)\n",
    "y_train = train.survived\n",
    "\n",
    "early_stopping = EarlyStopping(patience=2)\n",
    "\n",
    "# Define the model\n",
    "model = tf.keras.Sequential([\n",
    "    tf.keras.layers.Dense(64, activation='relu', input_shape=(18,)),\n",
    "    tf.keras.layers.Dense(64, activation='relu'),\n",
    "\n",
    "    tf.keras.layers.Dense(1, activation='sigmoid')\n",
    "])\n",
    "\n",
    "# Compile the model\n",
    "model.compile(optimizer='adam',\n",
    "              loss='binary_crossentropy',\n",
    "              metrics=['accuracy'])\n",
    "\n",
    "# Train the model\n",
    "history = model.fit(X_train, y_train,\n",
    "                    epochs=30,\n",
    "                    batch_size=32,\n",
    "                    validation_split=0.2,\n",
    "                    callbacks=early_stopping)\n",
    "\n",
    "import matplotlib.pyplot as plt\n",
    "\n",
    "results =  history.history\n",
    "# Plot the accuracy history\n",
    "# plot each line in the dictionary\n",
    "for key in results:\n",
    "    plt.plot(results[key], label=key)\n",
    "    \n",
    "    \n",
    "# Plot a model results    \n",
    "plt.title('Model Results')\n",
    "plt.ylabel('Scores')\n",
    "plt.xlabel('Epoch')\n",
    "plt.legend(list(results.keys()))\n",
    "plt.show()\n",
    "\n",
    "print(max(history.history['val_accuracy']))"
   ]
  },
  {
   "cell_type": "code",
   "execution_count": 23,
   "id": "ae519f8a",
   "metadata": {
    "execution": {
     "iopub.execute_input": "2023-02-14T05:35:02.195376Z",
     "iopub.status.busy": "2023-02-14T05:35:02.194720Z",
     "iopub.status.idle": "2023-02-14T05:35:59.194762Z",
     "shell.execute_reply": "2023-02-14T05:35:59.193361Z"
    },
    "papermill": {
     "duration": 57.017775,
     "end_time": "2023-02-14T05:35:59.197336",
     "exception": false,
     "start_time": "2023-02-14T05:35:02.179561",
     "status": "completed"
    },
    "tags": []
   },
   "outputs": [
    {
     "name": "stdout",
     "output_type": "stream",
     "text": [
      "5/5 [==============================] - 0s 2ms/step - loss: 0.4827 - accuracy: 0.7582\n",
      "5/5 [==============================] - 0s 2ms/step - loss: 0.5230 - accuracy: 0.7974\n",
      "5/5 [==============================] - 0s 2ms/step - loss: 0.4169 - accuracy: 0.8105\n",
      "5/5 [==============================] - 0s 2ms/step - loss: 0.4757 - accuracy: 0.8105\n",
      "5/5 [==============================] - 0s 3ms/step - loss: 0.3902 - accuracy: 0.8431\n",
      "5/5 [==============================] - 0s 2ms/step - loss: 0.4835 - accuracy: 0.7582\n",
      "5/5 [==============================] - 0s 2ms/step - loss: 0.5321 - accuracy: 0.7778\n",
      "5/5 [==============================] - 0s 2ms/step - loss: 0.4114 - accuracy: 0.8105\n",
      "5/5 [==============================] - 0s 2ms/step - loss: 0.4720 - accuracy: 0.7908\n",
      "5/5 [==============================] - 0s 2ms/step - loss: 0.3890 - accuracy: 0.8235\n",
      "5/5 [==============================] - 0s 2ms/step - loss: 0.4947 - accuracy: 0.7582\n",
      "5/5 [==============================] - 0s 2ms/step - loss: 0.5549 - accuracy: 0.7582\n",
      "5/5 [==============================] - 0s 2ms/step - loss: 0.4016 - accuracy: 0.8105\n",
      "5/5 [==============================] - 0s 2ms/step - loss: 0.4815 - accuracy: 0.7974\n",
      "5/5 [==============================] - 0s 2ms/step - loss: 0.3734 - accuracy: 0.8627\n",
      "3/3 [==============================] - 1s 3ms/step - loss: 0.4931 - accuracy: 0.7255\n",
      "3/3 [==============================] - 0s 3ms/step - loss: 0.5145 - accuracy: 0.7974\n",
      "3/3 [==============================] - 0s 3ms/step - loss: 0.4428 - accuracy: 0.7974\n",
      "3/3 [==============================] - 0s 3ms/step - loss: 0.4730 - accuracy: 0.7843\n",
      "3/3 [==============================] - 0s 3ms/step - loss: 0.4084 - accuracy: 0.8170\n",
      "3/3 [==============================] - 0s 3ms/step - loss: 0.4828 - accuracy: 0.7778\n",
      "3/3 [==============================] - 0s 3ms/step - loss: 0.5205 - accuracy: 0.7908\n",
      "3/3 [==============================] - 0s 5ms/step - loss: 0.4171 - accuracy: 0.8366\n",
      "3/3 [==============================] - 0s 3ms/step - loss: 0.4812 - accuracy: 0.7908\n",
      "3/3 [==============================] - 0s 3ms/step - loss: 0.3885 - accuracy: 0.8366\n",
      "3/3 [==============================] - 0s 3ms/step - loss: 0.4783 - accuracy: 0.7712\n",
      "3/3 [==============================] - 0s 3ms/step - loss: 0.5286 - accuracy: 0.7778\n",
      "3/3 [==============================] - 0s 3ms/step - loss: 0.4166 - accuracy: 0.8301\n",
      "3/3 [==============================] - 0s 14ms/step - loss: 0.4640 - accuracy: 0.8039\n",
      "3/3 [==============================] - 0s 3ms/step - loss: 0.3892 - accuracy: 0.8366\n",
      "2/2 [==============================] - 0s 5ms/step - loss: 0.5237 - accuracy: 0.7059\n",
      "2/2 [==============================] - 0s 4ms/step - loss: 0.5232 - accuracy: 0.7451\n",
      "2/2 [==============================] - 0s 4ms/step - loss: 0.4727 - accuracy: 0.8039\n",
      "2/2 [==============================] - 0s 4ms/step - loss: 0.4651 - accuracy: 0.7778\n",
      "2/2 [==============================] - 0s 4ms/step - loss: 0.4394 - accuracy: 0.8039\n",
      "2/2 [==============================] - 0s 5ms/step - loss: 0.5057 - accuracy: 0.7516\n",
      "2/2 [==============================] - 0s 4ms/step - loss: 0.5073 - accuracy: 0.7908\n",
      "2/2 [==============================] - 0s 4ms/step - loss: 0.4413 - accuracy: 0.8105\n",
      "2/2 [==============================] - 0s 4ms/step - loss: 0.4801 - accuracy: 0.7582\n",
      "2/2 [==============================] - 0s 5ms/step - loss: 0.4183 - accuracy: 0.8170\n",
      "2/2 [==============================] - 0s 5ms/step - loss: 0.4828 - accuracy: 0.7582\n",
      "2/2 [==============================] - 0s 5ms/step - loss: 0.5038 - accuracy: 0.7908\n",
      "2/2 [==============================] - 0s 4ms/step - loss: 0.4397 - accuracy: 0.7908\n",
      "2/2 [==============================] - 0s 5ms/step - loss: 0.4677 - accuracy: 0.7974\n",
      "2/2 [==============================] - 1s 5ms/step - loss: 0.3958 - accuracy: 0.8235\n",
      "Best: 0.806536 using {'batch_size': 64, 'epochs': 20, 'optimizer': 'adam'}\n",
      "0.803922 (0.027420) with: {'batch_size': 32, 'epochs': 15, 'optimizer': 'adam'}\n",
      "0.792157 (0.023163) with: {'batch_size': 32, 'epochs': 20, 'optimizer': 'adam'}\n",
      "0.797386 (0.038778) with: {'batch_size': 32, 'epochs': 25, 'optimizer': 'adam'}\n",
      "0.784314 (0.031209) with: {'batch_size': 64, 'epochs': 15, 'optimizer': 'adam'}\n",
      "0.806536 (0.025008) with: {'batch_size': 64, 'epochs': 20, 'optimizer': 'adam'}\n",
      "0.803922 (0.026469) with: {'batch_size': 64, 'epochs': 25, 'optimizer': 'adam'}\n",
      "0.767320 (0.037569) with: {'batch_size': 128, 'epochs': 15, 'optimizer': 'adam'}\n",
      "0.785621 (0.026597) with: {'batch_size': 128, 'epochs': 20, 'optimizer': 'adam'}\n",
      "0.792157 (0.020833) with: {'batch_size': 128, 'epochs': 25, 'optimizer': 'adam'}\n"
     ]
    }
   ],
   "source": [
    "from sklearn.model_selection import GridSearchCV\n",
    "from keras.wrappers.scikit_learn import KerasClassifier\n",
    "from keras.models import Sequential\n",
    "from keras.layers import Dense\n",
    "import tensorflow as tf\n",
    "\n",
    "import warnings\n",
    "warnings.filterwarnings('ignore') # Hide all warnings\n",
    "\n",
    "tf.random.set_seed(42)\n",
    "\n",
    "# Load input data\n",
    "X_train = train.drop('survived', axis=1)\n",
    "y_train = train.survived\n",
    "\n",
    "batch_size = [32,64,128]\n",
    "epochs = [15,20,25]\n",
    "optimizer = ['adam']\n",
    "cv = 5 # None mean default (K-fold=5)\n",
    "\n",
    "def create_model(optimizer):\n",
    "    model = Sequential()\n",
    "    model.add(Dense(64, activation='relu', input_shape=(18,)))\n",
    "    model.add(Dense(64, activation='relu'))\n",
    "    model.add(Dense(1, activation='sigmoid'))\n",
    "    model.compile(loss='binary_crossentropy', optimizer=optimizer, metrics=['accuracy'])\n",
    "    return model\n",
    "\n",
    "\n",
    "model = KerasClassifier(build_fn=create_model)\n",
    "\n",
    "param_grid = {'batch_size': batch_size,\n",
    "              'epochs': epochs,\n",
    "              'optimizer': optimizer,}\n",
    "\n",
    "\n",
    "grid = GridSearchCV(estimator=model, param_grid=param_grid, cv=cv) \n",
    "grid_result = grid.fit(X_train,y_train, verbose=0)\n",
    "\n",
    "print(\"Best: %f using %s\" % (grid_result.best_score_, grid_result.best_params_))\n",
    "means = grid_result.cv_results_['mean_test_score']\n",
    "stds = grid_result.cv_results_['std_test_score']\n",
    "params = grid_result.cv_results_['params']\n",
    "for mean, stdev, param in zip(means, stds, params):\n",
    "    print(\"%f (%f) with: %r\" % (mean, stdev, param))"
   ]
  },
  {
   "cell_type": "code",
   "execution_count": 24,
   "id": "d7e100b5",
   "metadata": {
    "execution": {
     "iopub.execute_input": "2023-02-14T05:35:59.238030Z",
     "iopub.status.busy": "2023-02-14T05:35:59.237602Z",
     "iopub.status.idle": "2023-02-14T05:35:59.423398Z",
     "shell.execute_reply": "2023-02-14T05:35:59.422186Z"
    },
    "papermill": {
     "duration": 0.209221,
     "end_time": "2023-02-14T05:35:59.426120",
     "exception": false,
     "start_time": "2023-02-14T05:35:59.216899",
     "status": "completed"
    },
    "tags": []
   },
   "outputs": [
    {
     "name": "stdout",
     "output_type": "stream",
     "text": [
      "Create .csv Model: neural_network_predict --> Done\n"
     ]
    }
   ],
   "source": [
    "# Load test data\n",
    "\n",
    "X_test = test\n",
    "name = 'neural_network_predict'\n",
    "# Evaluate the model\n",
    "y_pred = grid.predict(X_test)\n",
    "\n",
    "# FLatten data\n",
    "data = y_pred\n",
    "y_pred = [val for sublist in data for val in sublist]\n",
    "\n",
    "# Create .csv predict result\n",
    "result_dict = {'PassengerId':pd.read_csv('/kaggle/input/titanic/test.csv').copy().PassengerId,\n",
    "               'Survived': y_pred}\n",
    "\n",
    "df = pd.DataFrame(result_dict)\n",
    "df.to_csv('/kaggle/working/{}.csv'.format(name),index=False)\n",
    "print(\"Create .csv Model: {} --> Done\".format(name))"
   ]
  },
  {
   "cell_type": "code",
   "execution_count": null,
   "id": "0e0e5b4d",
   "metadata": {
    "papermill": {
     "duration": 0.019283,
     "end_time": "2023-02-14T05:35:59.464632",
     "exception": false,
     "start_time": "2023-02-14T05:35:59.445349",
     "status": "completed"
    },
    "tags": []
   },
   "outputs": [],
   "source": []
  }
 ],
 "metadata": {
  "kernelspec": {
   "display_name": "Python 3",
   "language": "python",
   "name": "python3"
  },
  "language_info": {
   "codemirror_mode": {
    "name": "ipython",
    "version": 3
   },
   "file_extension": ".py",
   "mimetype": "text/x-python",
   "name": "python",
   "nbconvert_exporter": "python",
   "pygments_lexer": "ipython3",
   "version": "3.7.12"
  },
  "papermill": {
   "default_parameters": {},
   "duration": 143.146296,
   "end_time": "2023-02-14T05:36:02.465674",
   "environment_variables": {},
   "exception": null,
   "input_path": "__notebook__.ipynb",
   "output_path": "__notebook__.ipynb",
   "parameters": {},
   "start_time": "2023-02-14T05:33:39.319378",
   "version": "2.3.4"
  }
 },
 "nbformat": 4,
 "nbformat_minor": 5
}
