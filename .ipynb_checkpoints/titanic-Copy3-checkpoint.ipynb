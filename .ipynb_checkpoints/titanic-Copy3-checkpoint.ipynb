{
 "cells": [
  {
   "cell_type": "markdown",
   "id": "4fcedd9f",
   "metadata": {},
   "source": [
    "# Dataset Description\n",
    "### Overview\n",
    "The data has been split into two groups:\n",
    "* training set (train.csv)\n",
    "* test set (test.csv)\n",
    "\n",
    "**The training set** should be used to build your machine learning models. For the training set, we provide the outcome (also known as the “ground truth”) for each passenger. Your model will be based on “features” like passengers’ gender and class. You can also use *feature engineering* to create new features.\n",
    "\n",
    "**The test set** should be used to see how well your model performs on unseen data. For the test set, we do not provide the ground truth for each passenger. It is your job to predict these outcomes. For each passenger in the test set, use the model you trained to predict whether or not they survived the sinking of the Titanic.\n",
    "\n",
    "We also include **gender_submission.csv**, a set of predictions that assume all and only female passengers survive, as an example of what a submission file should look like.\n",
    "\n",
    "Data Dictionary\n",
    "\n",
    "| Variable |                 Definition                 |                       Key                      |\n",
    "|:---------|:-------------------------------------------|:-----------------------------------------------|\n",
    "| survival | Survival                                   | 0 = No, 1 = Yes                                |\n",
    "| pclass   | Ticket class                               | 1 = 1st, 2 = 2nd, 3 = 3rd                      |\n",
    "| sex      | Sex                                        |                                                |\n",
    "| Age      | Age in years                               |                                                |\n",
    "| sibsp    | # of siblings / spouses aboard the Titanic |                                                |\n",
    "| parch    | # of parents / children aboard the Titanic |                                                |\n",
    "| ticket   | Ticket number                              |                                                |\n",
    "| fare     | Passenger fare                             |                                                |\n",
    "| cabin    | Cabin number                               |                                                |\n",
    "| embarked | Port of Embarkation                        | C = Cherbourg, Q = Queenstown, S = Southampton |\n",
    "\n",
    "### Variable Notes\n",
    "**pclass**: A proxy for socio-economic status (SES) <br>\n",
    "1st = Upper <br>\n",
    "2nd = Middle <br>\n",
    "3rd = Lower <br>\n",
    "\n",
    "**age**: Age is fractional if less than 1. If the age is estimated, is it in the form of xx.5\n",
    "\n",
    "**sibsp**: The dataset defines family relations in this way...\n",
    "Sibling = brother, sister, stepbrother, stepsister\n",
    "Spouse = husband, wife (mistresses and fiancés were ignored)\n",
    "\n",
    "**parch**: The dataset defines family relations in this way...\n",
    "Parent = mother, father\n",
    "Child = daughter, son, stepdaughter, stepson\n",
    "Some children travelled only with a nanny, therefore parch=0 for them."
   ]
  },
  {
   "cell_type": "code",
   "execution_count": 16,
   "id": "3e2e2dcc",
   "metadata": {},
   "outputs": [],
   "source": [
    "numerical_features = ['age', 'fare']\n",
    "categorical_features = ['pclass', 'sex', 'sibsp', 'parch', 'embarked']\n",
    "removeable_features = ['passengerid', 'name', 'ticket', 'cabin']"
   ]
  },
  {
   "cell_type": "markdown",
   "id": "8e122192",
   "metadata": {},
   "source": [
    "source:\n",
    "https://www.kaggle.com/competitions/titanic"
   ]
  },
  {
   "cell_type": "code",
   "execution_count": 1,
   "id": "52590ffe",
   "metadata": {},
   "outputs": [],
   "source": [
    "import pandas as pd\n",
    "import numpy as np\n",
    "import matplotlib.pyplot as plt\n",
    "import seaborn as sns"
   ]
  },
  {
   "cell_type": "code",
   "execution_count": 2,
   "id": "2f048a51",
   "metadata": {},
   "outputs": [],
   "source": [
    "train = pd.read_csv('train.csv').copy()\n",
    "test = pd.read_csv('test.csv').copy()"
   ]
  },
  {
   "cell_type": "code",
   "execution_count": 3,
   "id": "367120fd",
   "metadata": {},
   "outputs": [
    {
     "data": {
      "text/plain": [
       "PassengerId      0\n",
       "Survived         0\n",
       "Pclass           0\n",
       "Name             0\n",
       "Sex              0\n",
       "Age            177\n",
       "SibSp            0\n",
       "Parch            0\n",
       "Ticket           0\n",
       "Fare             0\n",
       "Cabin          687\n",
       "Embarked         2\n",
       "dtype: int64"
      ]
     },
     "execution_count": 3,
     "metadata": {},
     "output_type": "execute_result"
    }
   ],
   "source": [
    "# See Nan values\n",
    "train.isna().sum()"
   ]
  },
  {
   "cell_type": "code",
   "execution_count": 4,
   "id": "dddb8489",
   "metadata": {},
   "outputs": [],
   "source": [
    "# Rename columns name into lowercase\n",
    "train.columns = [x.lower() for x in train.columns]"
   ]
  },
  {
   "cell_type": "code",
   "execution_count": 5,
   "id": "1a23ea66",
   "metadata": {},
   "outputs": [
    {
     "data": {
      "image/png": "[encoded data removed]",
      "text/plain": [
       "<Figure size 432x288 with 1 Axes>"
      ]
     },
     "metadata": {
      "needs_background": "light"
     },
     "output_type": "display_data"
    },
    {
     "name": "stdout",
     "output_type": "stream",
     "text": [
      "Age mean: 29.69911764705882\n",
      "Age median: 28.0\n",
      "Age mode: 0    24.0\n",
      "dtype: float64\n"
     ]
    }
   ],
   "source": [
    "# Looking inside 'age' distribution\n",
    "plt.hist(train.age)\n",
    "plt.show()\n",
    "\n",
    "print('Age mean: {}'.format(train.age.mean()))\n",
    "print('Age median: {}'.format(train.age.median()))\n",
    "print('Age mode: {}'.format(train.age.mode()))\n"
   ]
  },
  {
   "cell_type": "code",
   "execution_count": 6,
   "id": "43ca43cb",
   "metadata": {},
   "outputs": [
    {
     "data": {
      "image/png": "[encoded data removed]",
      "text/plain": [
       "<Figure size 432x288 with 1 Axes>"
      ]
     },
     "metadata": {
      "needs_background": "light"
     },
     "output_type": "display_data"
    },
    {
     "name": "stdout",
     "output_type": "stream",
     "text": [
      "fare mean: 32.2042079685746\n",
      "fare median: 14.4542\n",
      "fare mode: 0    8.05\n",
      "dtype: float64\n"
     ]
    }
   ],
   "source": [
    "# Looking inside 'fare' distribution\n",
    "plt.hist(train.fare)\n",
    "plt.show()\n",
    "\n",
    "print('fare mean: {}'.format(train.fare.mean()))\n",
    "print('fare median: {}'.format(train.fare.median()))\n",
    "print('fare mode: {}'.format(train.fare.mode()))\n"
   ]
  },
  {
   "cell_type": "code",
   "execution_count": 9,
   "id": "6181f3d5",
   "metadata": {},
   "outputs": [],
   "source": [
    "# Rename columns name into lowercase\n",
    "def rename_cols(df):\n",
    "    df.columns = [x.lower() for x in df.columns]\n",
    "    return df"
   ]
  },
  {
   "cell_type": "code",
   "execution_count": 10,
   "id": "5f9f4fc8",
   "metadata": {},
   "outputs": [],
   "source": [
    "# Remove unwanted columns\n",
    "def remove_unwanted_cols(df):\n",
    "    df = df.drop(labels=removeable_features, axis=1)\n",
    "    return df"
   ]
  },
  {
   "cell_type": "code",
   "execution_count": 11,
   "id": "0ee29f9a",
   "metadata": {},
   "outputs": [],
   "source": [
    "# Filter out outliers\n",
    "def filter_outlier(df):\n",
    "    # Select the columns to filter out outliers\n",
    "    cols_to_filter = numerical_features\n",
    "\n",
    "    # Calculate the quartiles and interquartile range\n",
    "    Q1 = df[cols_to_filter].quantile(0.25)\n",
    "    Q3 = df[cols_to_filter].quantile(0.75)\n",
    "    IQR = Q3 - Q1\n",
    "\n",
    "    # Set the lower and upper thresholds\n",
    "    lower_threshold = Q1 - 1.5 * IQR\n",
    "    upper_threshold = Q3 + 1.5 * IQR\n",
    "\n",
    "    # Filter the df\n",
    "    df = df[~((df[cols_to_filter] < lower_threshold) | (df[cols_to_filter] > upper_threshold)).any(axis=1)]\n",
    "    \n",
    "    return df"
   ]
  },
  {
   "cell_type": "code",
   "execution_count": 12,
   "id": "cc3870fa",
   "metadata": {},
   "outputs": [],
   "source": [
    "def imputer(df):\n",
    "    # Missing values imputer\n",
    "    from sklearn.impute import SimpleImputer\n",
    "\n",
    "    # Create an imputer object with median strategy\n",
    "    imputer = SimpleImputer(strategy='median')\n",
    "\n",
    "    # Fit the imputer object on the age column\n",
    "    imputer.fit(df[numerical_features])\n",
    "\n",
    "    # Transform the age column\n",
    "    df[numerical_features] = imputer.transform(df[numerical_features])\n",
    "\n",
    "    return df"
   ]
  },
  {
   "cell_type": "code",
   "execution_count": 13,
   "id": "7cff8b96",
   "metadata": {},
   "outputs": [],
   "source": [
    "# Apply One-hot encode\n",
    "def one_hot(df):\n",
    "    df = pd.get_dummies(data=df, columns=categorical_features, drop_first=True)\n",
    "    return df"
   ]
  },
  {
   "cell_type": "code",
   "execution_count": 14,
   "id": "f32750c5",
   "metadata": {},
   "outputs": [],
   "source": [
    "def scaler(df):\n",
    "    \n",
    "    from sklearn.preprocessing import StandardScaler\n",
    "\n",
    "    # Create standardscaler instace\n",
    "    scaler = StandardScaler()\n",
    "\n",
    "    # Fit the instace on the selected columns\n",
    "    scaler.fit(df[numerical_features])\n",
    "\n",
    "    # Transform the selected columns\n",
    "    df[numerical_features] = scaler.transform(df[numerical_features])\n",
    "    \n",
    "    return df"
   ]
  },
  {
   "cell_type": "code",
   "execution_count": 31,
   "id": "b6505923",
   "metadata": {},
   "outputs": [],
   "source": [
    "def run_models(gen=False):\n",
    "    # Model training, predict, and evaluate\n",
    "    import numpy as np\n",
    "    from sklearn.model_selection import train_test_split\n",
    "    from sklearn.metrics import accuracy_score, precision_score, recall_score\n",
    "    from sklearn.linear_model import LogisticRegression\n",
    "    from sklearn.svm import SVC\n",
    "    from sklearn.ensemble import RandomForestClassifier\n",
    "\n",
    "    # Load the data\n",
    "    X, y = train.drop('survived', axis=1), train.survived\n",
    "\n",
    "\n",
    "    # Split the data into train and test sets\n",
    "    X_train, X_test, y_train, y_test = train_test_split(X, y, test_size=0.2, random_state=42)\n",
    "\n",
    "    # Initialize the models\n",
    "    models = {'Logistic Regression': LogisticRegression(max_iter=500),\n",
    "              'Support Vector Machine': SVC(),\n",
    "              'Random Forest': RandomForestClassifier(n_estimators=100, max_depth=5, random_state=21)}\n",
    "\n",
    "    # Iterate over the models\n",
    "    for name, model in models.items():\n",
    "        # Train the model\n",
    "        model.fit(X_train, y_train)\n",
    "        # Predict on the test set\n",
    "        y_pred = model.predict(X_test)\n",
    "        # Evaluate the model\n",
    "        accuracy = accuracy_score(y_test, y_pred)\n",
    "        precision = precision_score(y_test, y_pred, average='weighted')\n",
    "        recall = recall_score(y_test, y_pred, average='weighted')\n",
    "        print(\"Model: {}\".format(name))\n",
    "        print(\"Accuracy: {:.4f}\".format(accuracy))\n",
    "        print(\"Precision: {:.4f}\".format(precision))\n",
    "        print(\"Recall: {:.4f}\".format(recall))\n",
    "        print()\n",
    "        \n",
    "        if gen == False :\n",
    "            pass\n",
    "        else:\n",
    "            generate_result(y_pred)\n",
    "        "
   ]
  },
  {
   "cell_type": "code",
   "execution_count": 30,
   "id": "7b3c1cc3",
   "metadata": {},
   "outputs": [],
   "source": [
    "def generate_result(y_pred):\n",
    "    # Create .csv predict result\n",
    "    result_dict = {'PassengerId':pd.read_csv('test.csv').copy().PassengerId,\n",
    "                   'Survived': y_pred}\n",
    "    df = pd.DataFrame(result_dict)\n",
    "    df.to_csv('{}.csv'.format(name),index=False)\n",
    "    print(\"Create .csv Model: {} Done\".format(name))\n",
    "    print()"
   ]
  },
  {
   "cell_type": "code",
   "execution_count": 39,
   "id": "85f796b4",
   "metadata": {
    "scrolled": false
   },
   "outputs": [
    {
     "name": "stdout",
     "output_type": "stream",
     "text": [
      "Accuracy: 0.79 (+/- 0.02)\n",
      "Accuracy: 0.81 (+/- 0.01)\n",
      "Accuracy: 0.82 (+/- 0.03)\n",
      "Best parameters for Logistic Regression:  {'C': 10, 'penalty': 'l2'}\n",
      "Best score for Logistic Regression:  0.8\n",
      "Best parameters for SVC:  {'C': 1, 'kernel': 'rbf'}\n",
      "Best score for SVC:  0.8065359477124183\n",
      "Best parameters for Random Forest:  {'max_depth': 6, 'n_estimators': 100}\n",
      "Best score for Random Forest:  0.8143790849673203\n"
     ]
    }
   ],
   "source": [
    "from sklearn.linear_model import LogisticRegression\n",
    "from sklearn.svm import SVC\n",
    "from sklearn.ensemble import RandomForestClassifier\n",
    "from sklearn.model_selection import GridSearchCV, cross_val_score\n",
    "\n",
    "# Define the parameter grid for Logistic Regression\n",
    "logreg_param_grid = {'C': [0.001, 0.01, 0.1, 1, 10],\n",
    "                    'penalty': ['l2']}\n",
    "\n",
    "# Define the parameter grid for SVC\n",
    "svc_param_grid = {'C': [0.1, 1, 10],\n",
    "                  'kernel': ['linear', 'rbf']}\n",
    "\n",
    "# Define the parameter grid for Random Forest\n",
    "rf_param_grid = {'n_estimators': [50, 100, 200],\n",
    "                 'max_depth': [2, 4, 6, 8]}\n",
    "\n",
    "# Create the models\n",
    "logreg = LogisticRegression()\n",
    "svc = SVC()\n",
    "rf = RandomForestClassifier()\n",
    "\n",
    "# Create the GridSearchCV objects\n",
    "logreg_grid = GridSearchCV(logreg, logreg_param_grid, cv=5)\n",
    "svc_grid = GridSearchCV(svc, svc_param_grid, cv=5)\n",
    "rf_grid = GridSearchCV(rf, rf_param_grid, cv=5)\n",
    "\n",
    "# Load the data\n",
    "X_train, y_train = train.drop('survived', axis=1), train.survived\n",
    "\n",
    "# Fit the models to the training data\n",
    "logreg_grid.fit(X_train, y_train)\n",
    "svc_grid.fit(X_train, y_train)\n",
    "rf_grid.fit(X_train, y_train)\n",
    "\n",
    "# Evaluate the model using cross-validation\n",
    "logreg_scores = cross_val_score(logreg_grid, X_train, y_train, cv=5)\n",
    "svc_scores = cross_val_score(svc_grid, X_train, y_train, cv=5)\n",
    "rf_scores = cross_val_score(rf_grid, X_train, y_train, cv=5)\n",
    "print(\"Logistic Regression Accuracy: %0.2f (+/- %0.2f)\" % (logreg_scores.mean(), logreg_scores.std()))\n",
    "print(\"SVC Accuracy: %0.2f (+/- %0.2f)\" % (svc_scores.mean(), svc_scores.std()))\n",
    "print(\"Random Forest Accuracy: %0.2f (+/- %0.2f)\" % (rf_scores.mean(), rf_scores.std()))\n",
    "\n",
    "# Print the best parameters and best score for each model\n",
    "print(\"Best parameters for Logistic Regression: \", logreg_grid.best_params_)\n",
    "print(\"Best score for Logistic Regression: \", logreg_grid.best_score_)\n",
    "\n",
    "print(\"Best parameters for SVC: \", svc_grid.best_params_)\n",
    "print(\"Best score for SVC: \", svc_grid.best_score_)\n",
    "\n",
    "print(\"Best parameters for Random Forest: \", rf_grid.best_params_)\n",
    "print(\"Best score for Random Forest: \", rf_grid.best_score_)"
   ]
  },
  {
   "cell_type": "code",
   "execution_count": 18,
   "id": "07fda625",
   "metadata": {},
   "outputs": [
    {
     "name": "stdout",
     "output_type": "stream",
     "text": [
      "Best parameters:  {'max_depth': 5, 'n_estimators': 100}\n",
      "Accuracy: 0.81 (+/- 0.02)\n"
     ]
    }
   ],
   "source": [
    "def grid_search():\n",
    "    # Model training, predict, and evaluate\n",
    "    import numpy as np\n",
    "    from sklearn.ensemble import RandomForestClassifier\n",
    "    from sklearn.model_selection import GridSearchCV, cross_val_score\n",
    "    \n",
    "\n",
    "    # Load the data\n",
    "    X, y = train.drop('survived', axis=1), train.survived\n",
    "    \n",
    "    # Define the parameter grid\n",
    "    param_grid = {'n_estimators': [10, 50, 100], 'max_depth': [None, 5, 10]}\n",
    "\n",
    "    # Create the grid search object\n",
    "    grid_search = GridSearchCV(RandomForestClassifier(), param_grid, cv=5)\n",
    "\n",
    "    # Fit the grid search\n",
    "    grid_search.fit(X, y)\n",
    "\n",
    "    # Print the best parameters\n",
    "    print(\"Best parameters: \", grid_search.best_params_)\n",
    "\n",
    "    # Evaluate the model using cross-validation\n",
    "    scores = cross_val_score(grid_search, X, y, cv=5)\n",
    "    print(\"Accuracy: %0.2f (+/- %0.2f)\" % (scores.mean(), scores.std()))\n",
    "    \n",
    "train = pd.read_csv('train.csv').copy()\n",
    "train = rename_cols(train)\n",
    "train = remove_unwanted_cols(train)\n",
    "train = filter_outlier(train)\n",
    "train = imputer(train)\n",
    "train = one_hot(train)\n",
    "train = scaler(train)\n",
    "grid_search()"
   ]
  },
  {
   "cell_type": "code",
   "execution_count": null,
   "id": "1d7039fc",
   "metadata": {},
   "outputs": [],
   "source": []
  },
  {
   "cell_type": "code",
   "execution_count": null,
   "id": "27dc2108",
   "metadata": {
    "scrolled": true
   },
   "outputs": [],
   "source": [
    "# Generate result .csv \n",
    "\n",
    "import numpy as np\n",
    "from sklearn.model_selection import train_test_split\n",
    "from sklearn.metrics import accuracy_score, precision_score, recall_score\n",
    "from sklearn.linear_model import LogisticRegression\n",
    "from sklearn.svm import SVC\n",
    "from sklearn.ensemble import RandomForestClassifier\n",
    "\n",
    "\n",
    "# Split the data into train and test sets\n",
    "X_train = train.drop('survived', axis=1)\n",
    "X_test = test\n",
    "y_train = train.survived\n",
    "\n",
    "# Initialize the models\n",
    "models = {'Logistic Regression': LogisticRegression(max_iter=1000),\n",
    "          'Support Vector Machine': SVC(),\n",
    "          'Random Forest': RandomForestClassifier(n_estimators=10)}\n",
    "\n",
    "# Iterate over the models\n",
    "for name, model in models.items():\n",
    "    \n",
    "    # Train the model\n",
    "    model.fit(X_train, y_train)\n",
    "    \n",
    "    # Predict on the test set\n",
    "    y_pred = model.predict(X_test)\n",
    "    \n",
    "    # Create .csv predict result\n",
    "    result_dict = {'PassengerId':pd.read_csv('test.csv').copy().PassengerId,\n",
    "                   'Survived': y_pred}\n",
    "    df = pd.DataFrame(result_dict)\n",
    "    df.to_csv('{}.csv'.format(name),index=False)\n",
    "    print(\"Create .csv Model: {} Done\".format(name))\n",
    "    print()\n"
   ]
  },
  {
   "cell_type": "code",
   "execution_count": 32,
   "id": "9f7638a4",
   "metadata": {},
   "outputs": [
    {
     "name": "stdout",
     "output_type": "stream",
     "text": [
      "Model: Logistic Regression\n",
      "Accuracy: 0.8235\n",
      "Precision: 0.8213\n",
      "Recall: 0.8235\n",
      "\n"
     ]
    },
    {
     "ename": "ValueError",
     "evalue": "array length 153 does not match index length 418",
     "output_type": "error",
     "traceback": [
      "\u001b[1;31m---------------------------------------------------------------------------\u001b[0m",
      "\u001b[1;31mValueError\u001b[0m                                Traceback (most recent call last)",
      "\u001b[1;32m<ipython-input-32-3ef7e94c216c>\u001b[0m in \u001b[0;36m<module>\u001b[1;34m\u001b[0m\n\u001b[0;32m     16\u001b[0m \u001b[0mtest\u001b[0m \u001b[1;33m=\u001b[0m \u001b[0mtest\u001b[0m\u001b[1;33m.\u001b[0m\u001b[0mdrop\u001b[0m\u001b[1;33m(\u001b[0m\u001b[1;33m[\u001b[0m\u001b[1;34m'sibsp_8'\u001b[0m\u001b[1;33m,\u001b[0m \u001b[1;34m'parch_9'\u001b[0m\u001b[1;33m]\u001b[0m\u001b[1;33m,\u001b[0m \u001b[0maxis\u001b[0m\u001b[1;33m=\u001b[0m\u001b[1;36m1\u001b[0m\u001b[1;33m)\u001b[0m\u001b[1;33m\u001b[0m\u001b[1;33m\u001b[0m\u001b[0m\n\u001b[0;32m     17\u001b[0m \u001b[1;33m\u001b[0m\u001b[0m\n\u001b[1;32m---> 18\u001b[1;33m \u001b[0mrun_models\u001b[0m\u001b[1;33m(\u001b[0m\u001b[1;32mTrue\u001b[0m\u001b[1;33m)\u001b[0m\u001b[1;33m\u001b[0m\u001b[1;33m\u001b[0m\u001b[0m\n\u001b[0m",
      "\u001b[1;32m<ipython-input-31-af31d72a16cf>\u001b[0m in \u001b[0;36mrun_models\u001b[1;34m(gen)\u001b[0m\n\u001b[0;32m     39\u001b[0m             \u001b[1;32mpass\u001b[0m\u001b[1;33m\u001b[0m\u001b[1;33m\u001b[0m\u001b[0m\n\u001b[0;32m     40\u001b[0m         \u001b[1;32melse\u001b[0m\u001b[1;33m:\u001b[0m\u001b[1;33m\u001b[0m\u001b[1;33m\u001b[0m\u001b[0m\n\u001b[1;32m---> 41\u001b[1;33m             \u001b[0mgenerate_result\u001b[0m\u001b[1;33m(\u001b[0m\u001b[0my_pred\u001b[0m\u001b[1;33m)\u001b[0m\u001b[1;33m\u001b[0m\u001b[1;33m\u001b[0m\u001b[0m\n\u001b[0m\u001b[0;32m     42\u001b[0m \u001b[1;33m\u001b[0m\u001b[0m\n",
      "\u001b[1;32m<ipython-input-30-3cdb118ab129>\u001b[0m in \u001b[0;36mgenerate_result\u001b[1;34m(y_pred)\u001b[0m\n\u001b[0;32m      3\u001b[0m     result_dict = {'PassengerId':pd.read_csv('test.csv').copy().PassengerId,\n\u001b[0;32m      4\u001b[0m                    'Survived': y_pred}\n\u001b[1;32m----> 5\u001b[1;33m     \u001b[0mdf\u001b[0m \u001b[1;33m=\u001b[0m \u001b[0mpd\u001b[0m\u001b[1;33m.\u001b[0m\u001b[0mDataFrame\u001b[0m\u001b[1;33m(\u001b[0m\u001b[0mresult_dict\u001b[0m\u001b[1;33m)\u001b[0m\u001b[1;33m\u001b[0m\u001b[1;33m\u001b[0m\u001b[0m\n\u001b[0m\u001b[0;32m      6\u001b[0m     \u001b[0mdf\u001b[0m\u001b[1;33m.\u001b[0m\u001b[0mto_csv\u001b[0m\u001b[1;33m(\u001b[0m\u001b[1;34m'{}.csv'\u001b[0m\u001b[1;33m.\u001b[0m\u001b[0mformat\u001b[0m\u001b[1;33m(\u001b[0m\u001b[0mname\u001b[0m\u001b[1;33m)\u001b[0m\u001b[1;33m,\u001b[0m\u001b[0mindex\u001b[0m\u001b[1;33m=\u001b[0m\u001b[1;32mFalse\u001b[0m\u001b[1;33m)\u001b[0m\u001b[1;33m\u001b[0m\u001b[1;33m\u001b[0m\u001b[0m\n\u001b[0;32m      7\u001b[0m     \u001b[0mprint\u001b[0m\u001b[1;33m(\u001b[0m\u001b[1;34m\"Create .csv Model: {} Done\"\u001b[0m\u001b[1;33m.\u001b[0m\u001b[0mformat\u001b[0m\u001b[1;33m(\u001b[0m\u001b[0mname\u001b[0m\u001b[1;33m)\u001b[0m\u001b[1;33m)\u001b[0m\u001b[1;33m\u001b[0m\u001b[1;33m\u001b[0m\u001b[0m\n",
      "\u001b[1;32m~\\anaconda3\\lib\\site-packages\\pandas\\core\\frame.py\u001b[0m in \u001b[0;36m__init__\u001b[1;34m(self, data, index, columns, dtype, copy)\u001b[0m\n\u001b[0;32m    527\u001b[0m \u001b[1;33m\u001b[0m\u001b[0m\n\u001b[0;32m    528\u001b[0m         \u001b[1;32melif\u001b[0m \u001b[0misinstance\u001b[0m\u001b[1;33m(\u001b[0m\u001b[0mdata\u001b[0m\u001b[1;33m,\u001b[0m \u001b[0mdict\u001b[0m\u001b[1;33m)\u001b[0m\u001b[1;33m:\u001b[0m\u001b[1;33m\u001b[0m\u001b[1;33m\u001b[0m\u001b[0m\n\u001b[1;32m--> 529\u001b[1;33m             \u001b[0mmgr\u001b[0m \u001b[1;33m=\u001b[0m \u001b[0minit_dict\u001b[0m\u001b[1;33m(\u001b[0m\u001b[0mdata\u001b[0m\u001b[1;33m,\u001b[0m \u001b[0mindex\u001b[0m\u001b[1;33m,\u001b[0m \u001b[0mcolumns\u001b[0m\u001b[1;33m,\u001b[0m \u001b[0mdtype\u001b[0m\u001b[1;33m=\u001b[0m\u001b[0mdtype\u001b[0m\u001b[1;33m)\u001b[0m\u001b[1;33m\u001b[0m\u001b[1;33m\u001b[0m\u001b[0m\n\u001b[0m\u001b[0;32m    530\u001b[0m         \u001b[1;32melif\u001b[0m \u001b[0misinstance\u001b[0m\u001b[1;33m(\u001b[0m\u001b[0mdata\u001b[0m\u001b[1;33m,\u001b[0m \u001b[0mma\u001b[0m\u001b[1;33m.\u001b[0m\u001b[0mMaskedArray\u001b[0m\u001b[1;33m)\u001b[0m\u001b[1;33m:\u001b[0m\u001b[1;33m\u001b[0m\u001b[1;33m\u001b[0m\u001b[0m\n\u001b[0;32m    531\u001b[0m             \u001b[1;32mimport\u001b[0m \u001b[0mnumpy\u001b[0m\u001b[1;33m.\u001b[0m\u001b[0mma\u001b[0m\u001b[1;33m.\u001b[0m\u001b[0mmrecords\u001b[0m \u001b[1;32mas\u001b[0m \u001b[0mmrecords\u001b[0m\u001b[1;33m\u001b[0m\u001b[1;33m\u001b[0m\u001b[0m\n",
      "\u001b[1;32m~\\anaconda3\\lib\\site-packages\\pandas\\core\\internals\\construction.py\u001b[0m in \u001b[0;36minit_dict\u001b[1;34m(data, index, columns, dtype)\u001b[0m\n\u001b[0;32m    285\u001b[0m             \u001b[0marr\u001b[0m \u001b[1;32mif\u001b[0m \u001b[1;32mnot\u001b[0m \u001b[0mis_datetime64tz_dtype\u001b[0m\u001b[1;33m(\u001b[0m\u001b[0marr\u001b[0m\u001b[1;33m)\u001b[0m \u001b[1;32melse\u001b[0m \u001b[0marr\u001b[0m\u001b[1;33m.\u001b[0m\u001b[0mcopy\u001b[0m\u001b[1;33m(\u001b[0m\u001b[1;33m)\u001b[0m \u001b[1;32mfor\u001b[0m \u001b[0marr\u001b[0m \u001b[1;32min\u001b[0m \u001b[0marrays\u001b[0m\u001b[1;33m\u001b[0m\u001b[1;33m\u001b[0m\u001b[0m\n\u001b[0;32m    286\u001b[0m         ]\n\u001b[1;32m--> 287\u001b[1;33m     \u001b[1;32mreturn\u001b[0m \u001b[0marrays_to_mgr\u001b[0m\u001b[1;33m(\u001b[0m\u001b[0marrays\u001b[0m\u001b[1;33m,\u001b[0m \u001b[0mdata_names\u001b[0m\u001b[1;33m,\u001b[0m \u001b[0mindex\u001b[0m\u001b[1;33m,\u001b[0m \u001b[0mcolumns\u001b[0m\u001b[1;33m,\u001b[0m \u001b[0mdtype\u001b[0m\u001b[1;33m=\u001b[0m\u001b[0mdtype\u001b[0m\u001b[1;33m)\u001b[0m\u001b[1;33m\u001b[0m\u001b[1;33m\u001b[0m\u001b[0m\n\u001b[0m\u001b[0;32m    288\u001b[0m \u001b[1;33m\u001b[0m\u001b[0m\n\u001b[0;32m    289\u001b[0m \u001b[1;33m\u001b[0m\u001b[0m\n",
      "\u001b[1;32m~\\anaconda3\\lib\\site-packages\\pandas\\core\\internals\\construction.py\u001b[0m in \u001b[0;36marrays_to_mgr\u001b[1;34m(arrays, arr_names, index, columns, dtype, verify_integrity)\u001b[0m\n\u001b[0;32m     78\u001b[0m         \u001b[1;31m# figure out the index, if necessary\u001b[0m\u001b[1;33m\u001b[0m\u001b[1;33m\u001b[0m\u001b[1;33m\u001b[0m\u001b[0m\n\u001b[0;32m     79\u001b[0m         \u001b[1;32mif\u001b[0m \u001b[0mindex\u001b[0m \u001b[1;32mis\u001b[0m \u001b[1;32mNone\u001b[0m\u001b[1;33m:\u001b[0m\u001b[1;33m\u001b[0m\u001b[1;33m\u001b[0m\u001b[0m\n\u001b[1;32m---> 80\u001b[1;33m             \u001b[0mindex\u001b[0m \u001b[1;33m=\u001b[0m \u001b[0mextract_index\u001b[0m\u001b[1;33m(\u001b[0m\u001b[0marrays\u001b[0m\u001b[1;33m)\u001b[0m\u001b[1;33m\u001b[0m\u001b[1;33m\u001b[0m\u001b[0m\n\u001b[0m\u001b[0;32m     81\u001b[0m         \u001b[1;32melse\u001b[0m\u001b[1;33m:\u001b[0m\u001b[1;33m\u001b[0m\u001b[1;33m\u001b[0m\u001b[0m\n\u001b[0;32m     82\u001b[0m             \u001b[0mindex\u001b[0m \u001b[1;33m=\u001b[0m \u001b[0mensure_index\u001b[0m\u001b[1;33m(\u001b[0m\u001b[0mindex\u001b[0m\u001b[1;33m)\u001b[0m\u001b[1;33m\u001b[0m\u001b[1;33m\u001b[0m\u001b[0m\n",
      "\u001b[1;32m~\\anaconda3\\lib\\site-packages\\pandas\\core\\internals\\construction.py\u001b[0m in \u001b[0;36mextract_index\u001b[1;34m(data)\u001b[0m\n\u001b[0;32m    413\u001b[0m                         \u001b[1;34mf\"length {len(index)}\"\u001b[0m\u001b[1;33m\u001b[0m\u001b[1;33m\u001b[0m\u001b[0m\n\u001b[0;32m    414\u001b[0m                     )\n\u001b[1;32m--> 415\u001b[1;33m                     \u001b[1;32mraise\u001b[0m \u001b[0mValueError\u001b[0m\u001b[1;33m(\u001b[0m\u001b[0mmsg\u001b[0m\u001b[1;33m)\u001b[0m\u001b[1;33m\u001b[0m\u001b[1;33m\u001b[0m\u001b[0m\n\u001b[0m\u001b[0;32m    416\u001b[0m             \u001b[1;32melse\u001b[0m\u001b[1;33m:\u001b[0m\u001b[1;33m\u001b[0m\u001b[1;33m\u001b[0m\u001b[0m\n\u001b[0;32m    417\u001b[0m                 \u001b[0mindex\u001b[0m \u001b[1;33m=\u001b[0m \u001b[0mibase\u001b[0m\u001b[1;33m.\u001b[0m\u001b[0mdefault_index\u001b[0m\u001b[1;33m(\u001b[0m\u001b[0mlengths\u001b[0m\u001b[1;33m[\u001b[0m\u001b[1;36m0\u001b[0m\u001b[1;33m]\u001b[0m\u001b[1;33m)\u001b[0m\u001b[1;33m\u001b[0m\u001b[1;33m\u001b[0m\u001b[0m\n",
      "\u001b[1;31mValueError\u001b[0m: array length 153 does not match index length 418"
     ]
    }
   ],
   "source": [
    "train = pd.read_csv('train.csv').copy()\n",
    "test = pd.read_csv('test.csv').copy()\n",
    "\n",
    "train = rename_cols(train)\n",
    "train = remove_unwanted_cols(train)\n",
    "train = filter_outlier(train)\n",
    "train = imputer(train)\n",
    "train = one_hot(train)\n",
    "train = scaler(train)\n",
    "\n",
    "test = rename_cols(test)\n",
    "test = remove_unwanted_cols(test)\n",
    "test = imputer(test)\n",
    "test = one_hot(test)\n",
    "test = scaler(test)\n",
    "test = test.drop(['sibsp_8', 'parch_9'], axis=1)\n",
    "\n",
    "run_models(True)"
   ]
  },
  {
   "cell_type": "code",
   "execution_count": 22,
   "id": "9e9994d3",
   "metadata": {},
   "outputs": [
    {
     "name": "stdout",
     "output_type": "stream",
     "text": [
      "Model: Logistic Regression\n",
      "Accuracy: 0.8170\n",
      "Precision: 0.8153\n",
      "Recall: 0.8170\n",
      "\n",
      "Model: Support Vector Machine\n",
      "Accuracy: 0.7320\n",
      "Precision: 0.7400\n",
      "Recall: 0.7320\n",
      "\n",
      "Model: Random Forest\n",
      "Accuracy: 0.8497\n",
      "Precision: 0.8474\n",
      "Recall: 0.8497\n",
      "\n"
     ]
    }
   ],
   "source": [
    "# Quick precossing test\n",
    "train = pd.read_csv('train.csv').copy()\n",
    "test = pd.read_csv('test.csv').copy()\n",
    "\n",
    "train = rename_cols(train)\n",
    "train = remove_unwanted_cols(train)\n",
    "train = filter_outlier(train)\n",
    "train = imputer(train)\n",
    "# train = one_hot(train)\n",
    "# train = scaler(train)\n",
    "\n",
    "train.sex = train.sex.replace({'male':0, 'female':1})\n",
    "train.embarked = train.embarked.replace({'S':0, 'Q':1, 'C':2})\n",
    "\n",
    "test = rename_cols(test)\n",
    "test = remove_unwanted_cols(test)\n",
    "test = imputer(test)\n",
    "# test = one_hot(test)\n",
    "# test = scaler(test)\n",
    "# test = test.drop(['sibsp_8', 'parch_9'], axis=1)\n",
    "\n",
    "test.sex = test.sex.replace({'male':0, 'female':1})\n",
    "test.embarked = train.embarked.replace({'S':0, 'Q':1, 'C':2})\n",
    "run_models()"
   ]
  }
 ],
 "metadata": {
  "kernelspec": {
   "display_name": "Python 3",
   "language": "python",
   "name": "python3"
  },
  "language_info": {
   "codemirror_mode": {
    "name": "ipython",
    "version": 3
   },
   "file_extension": ".py",
   "mimetype": "text/x-python",
   "name": "python",
   "nbconvert_exporter": "python",
   "pygments_lexer": "ipython3",
   "version": "3.8.8"
  }
 },
 "nbformat": 4,
 "nbformat_minor": 5
}
