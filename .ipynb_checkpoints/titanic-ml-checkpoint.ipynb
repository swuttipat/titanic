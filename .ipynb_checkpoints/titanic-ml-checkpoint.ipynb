{
 "cells": [
  {
   "cell_type": "markdown",
   "id": "4fcedd9f",
   "metadata": {},
   "source": [
    "# Dataset Description\n",
    "### Overview\n",
    "The data has been split into two groups:\n",
    "* training set (train.csv)\n",
    "* test set (test.csv)\n",
    "\n",
    "**The training set** should be used to build your machine learning models. For the training set, we provide the outcome (also known as the “ground truth”) for each passenger. Your model will be based on “features” like passengers’ gender and class. You can also use *feature engineering* to create new features.\n",
    "\n",
    "**The test set** should be used to see how well your model performs on unseen data. For the test set, we do not provide the ground truth for each passenger. It is your job to predict these outcomes. For each passenger in the test set, use the model you trained to predict whether or not they survived the sinking of the Titanic.\n",
    "\n",
    "We also include **gender_submission.csv**, a set of predictions that assume all and only female passengers survive, as an example of what a submission file should look like.\n",
    "\n",
    "Data Dictionary\n",
    "\n",
    "| Variable |                 Definition                 |                       Key                      |\n",
    "|:---------|:-------------------------------------------|:-----------------------------------------------|\n",
    "| survival | Survival                                   | 0 = No, 1 = Yes                                |\n",
    "| pclass   | Ticket class                               | 1 = 1st, 2 = 2nd, 3 = 3rd                      |\n",
    "| sex      | Sex                                        |                                                |\n",
    "| Age      | Age in years                               |                                                |\n",
    "| sibsp    | # of siblings / spouses aboard the Titanic |                                                |\n",
    "| parch    | # of parents / children aboard the Titanic |                                                |\n",
    "| ticket   | Ticket number                              |                                                |\n",
    "| fare     | Passenger fare                             |                                                |\n",
    "| cabin    | Cabin number                               |                                                |\n",
    "| embarked | Port of Embarkation                        | C = Cherbourg, Q = Queenstown, S = Southampton |\n",
    "\n",
    "### Variable Notes\n",
    "**pclass**: A proxy for socio-economic status (SES) <br>\n",
    "1st = Upper <br>\n",
    "2nd = Middle <br>\n",
    "3rd = Lower <br>\n",
    "\n",
    "**age**: Age is fractional if less than 1. If the age is estimated, is it in the form of xx.5\n",
    "\n",
    "**sibsp**: The dataset defines family relations in this way...\n",
    "Sibling = brother, sister, stepbrother, stepsister\n",
    "Spouse = husband, wife (mistresses and fiancés were ignored)\n",
    "\n",
    "**parch**: The dataset defines family relations in this way...\n",
    "Parent = mother, father\n",
    "Child = daughter, son, stepdaughter, stepson\n",
    "Some children travelled only with a nanny, therefore parch=0 for them."
   ]
  },
  {
   "cell_type": "markdown",
   "id": "8e122192",
   "metadata": {},
   "source": [
    "source:\n",
    "https://www.kaggle.com/competitions/titanic"
   ]
  },
  {
   "cell_type": "code",
   "execution_count": 1,
   "id": "52590ffe",
   "metadata": {},
   "outputs": [],
   "source": [
    "import pandas as pd\n",
    "import numpy as np\n",
    "import matplotlib.pyplot as plt\n",
    "import seaborn as sns\n",
    "\n",
    "numerical_features = ['age', 'fare']\n",
    "categorical_features = ['pclass', 'sex', 'sibsp', 'parch', 'embarked']\n",
    "removeable_features = ['passengerid', 'name', 'ticket', 'cabin']"
   ]
  },
  {
   "cell_type": "code",
   "execution_count": 2,
   "id": "2f048a51",
   "metadata": {},
   "outputs": [],
   "source": [
    "train = pd.read_csv('train.csv').copy()\n",
    "test = pd.read_csv('test.csv').copy()"
   ]
  },
  {
   "cell_type": "code",
   "execution_count": 3,
   "id": "367120fd",
   "metadata": {},
   "outputs": [
    {
     "data": {
      "text/plain": [
       "PassengerId      0\n",
       "Survived         0\n",
       "Pclass           0\n",
       "Name             0\n",
       "Sex              0\n",
       "Age            177\n",
       "SibSp            0\n",
       "Parch            0\n",
       "Ticket           0\n",
       "Fare             0\n",
       "Cabin          687\n",
       "Embarked         2\n",
       "dtype: int64"
      ]
     },
     "execution_count": 3,
     "metadata": {},
     "output_type": "execute_result"
    }
   ],
   "source": [
    "# See Nan values\n",
    "train.isna().sum()"
   ]
  },
  {
   "cell_type": "code",
   "execution_count": 4,
   "id": "83d0de5b",
   "metadata": {},
   "outputs": [],
   "source": [
    "# Rename columns name into lowercase\n",
    "train.columns = [x.lower() for x in train.columns]"
   ]
  },
  {
   "cell_type": "code",
   "execution_count": 5,
   "id": "796597ba",
   "metadata": {},
   "outputs": [
    {
     "data": {
      "image/png": "[encoded data removed]",
      "text/plain": [
       "<Figure size 432x288 with 1 Axes>"
      ]
     },
     "metadata": {
      "needs_background": "light"
     },
     "output_type": "display_data"
    },
    {
     "name": "stdout",
     "output_type": "stream",
     "text": [
      "Age mean: 29.69911764705882\n",
      "Age median: 28.0\n",
      "Age mode: 0    24.0\n",
      "dtype: float64\n"
     ]
    }
   ],
   "source": [
    "# Looking inside 'age' distribution\n",
    "plt.hist(train.age)\n",
    "plt.show()\n",
    "\n",
    "print('Age mean: {}'.format(train.age.mean()))\n",
    "print('Age median: {}'.format(train.age.median()))\n",
    "print('Age mode: {}'.format(train.age.mode()))\n"
   ]
  },
  {
   "cell_type": "code",
   "execution_count": 6,
   "id": "6770c491",
   "metadata": {},
   "outputs": [
    {
     "data": {
      "image/png": "[encoded data removed]",
      "text/plain": [
       "<Figure size 432x288 with 1 Axes>"
      ]
     },
     "metadata": {
      "needs_background": "light"
     },
     "output_type": "display_data"
    },
    {
     "name": "stdout",
     "output_type": "stream",
     "text": [
      "fare mean: 32.2042079685746\n",
      "fare median: 14.4542\n",
      "fare mode: 0    8.05\n",
      "dtype: float64\n"
     ]
    }
   ],
   "source": [
    "# Looking inside 'fare' distribution\n",
    "plt.hist(train.fare)\n",
    "plt.show()\n",
    "\n",
    "print('fare mean: {}'.format(train.fare.mean()))\n",
    "print('fare median: {}'.format(train.fare.median()))\n",
    "print('fare mode: {}'.format(train.fare.mode()))\n"
   ]
  },
  {
   "cell_type": "code",
   "execution_count": 7,
   "id": "2a6ef073",
   "metadata": {},
   "outputs": [],
   "source": [
    "# Rename columns name into lowercase\n",
    "def rename_cols(df):\n",
    "    df.columns = [x.lower() for x in df.columns]\n",
    "    return df"
   ]
  },
  {
   "cell_type": "code",
   "execution_count": 8,
   "id": "5a905138",
   "metadata": {},
   "outputs": [],
   "source": [
    "# Remove unwanted columns\n",
    "def remove_unwanted_cols(df):\n",
    "    df = df.drop(labels=removeable_features, axis=1)\n",
    "    return df"
   ]
  },
  {
   "cell_type": "code",
   "execution_count": 9,
   "id": "b0107f80",
   "metadata": {},
   "outputs": [],
   "source": [
    "# Filter out outliers\n",
    "def filter_outlier(df):\n",
    "    # Select the columns to filter out outliers\n",
    "    cols_to_filter = numerical_features\n",
    "\n",
    "    # Calculate the quartiles and interquartile range\n",
    "    Q1 = df[cols_to_filter].quantile(0.25)\n",
    "    Q3 = df[cols_to_filter].quantile(0.75)\n",
    "    IQR = Q3 - Q1\n",
    "\n",
    "    # Set the lower and upper thresholds\n",
    "    lower_threshold = Q1 - 1.5 * IQR\n",
    "    upper_threshold = Q3 + 1.5 * IQR\n",
    "\n",
    "    # Filter the df\n",
    "    df = df[~((df[cols_to_filter] < lower_threshold) | (df[cols_to_filter] > upper_threshold)).any(axis=1)]\n",
    "    \n",
    "    return df"
   ]
  },
  {
   "cell_type": "code",
   "execution_count": 10,
   "id": "ff46dd68",
   "metadata": {},
   "outputs": [],
   "source": [
    "def imputer(df):\n",
    "    # Missing values imputer\n",
    "    from sklearn.impute import SimpleImputer\n",
    "\n",
    "    # Create an imputer object with median strategy\n",
    "    imputer = SimpleImputer(strategy='median')\n",
    "\n",
    "    # Fit the imputer object on the age column\n",
    "    imputer.fit(df[numerical_features])\n",
    "\n",
    "    # Transform the age column\n",
    "    df[numerical_features] = imputer.transform(df[numerical_features])\n",
    "\n",
    "    return df"
   ]
  },
  {
   "cell_type": "code",
   "execution_count": 11,
   "id": "7462ee82",
   "metadata": {},
   "outputs": [],
   "source": [
    "# Apply One-hot encode\n",
    "def one_hot(df):\n",
    "    # Transform categorical features into dummies variables\n",
    "    df = pd.get_dummies(data=df, columns=categorical_features, drop_first=True)\n",
    "    return df"
   ]
  },
  {
   "cell_type": "code",
   "execution_count": 12,
   "id": "bfeac11b",
   "metadata": {},
   "outputs": [],
   "source": [
    "def scaler(df):\n",
    "    \n",
    "    from sklearn.preprocessing import StandardScaler\n",
    "\n",
    "    # Create standardscaler instace\n",
    "    scaler = StandardScaler()\n",
    "\n",
    "    # Fit the instace on the selected columns\n",
    "    scaler.fit(df[numerical_features])\n",
    "\n",
    "    # Transform the selected columns\n",
    "    df[numerical_features] = scaler.transform(df[numerical_features])\n",
    "    \n",
    "    return df"
   ]
  },
  {
   "cell_type": "code",
   "execution_count": 13,
   "id": "a041ff96",
   "metadata": {},
   "outputs": [],
   "source": [
    "def run_models(gen=False):\n",
    "    # Model training, predict, and evaluate\n",
    "    import numpy as np\n",
    "    from sklearn.model_selection import train_test_split\n",
    "    from sklearn.metrics import accuracy_score, precision_score, recall_score\n",
    "    from sklearn.linear_model import LogisticRegression\n",
    "    from sklearn.svm import SVC\n",
    "    from sklearn.ensemble import RandomForestClassifier\n",
    "\n",
    "    # Load the data\n",
    "    X_train, y_train = train.drop('survived', axis=1), train.survived\n",
    "    X_test = test\n",
    "    \n",
    "    # Initialize the models\n",
    "    models = {'Logistic Regression': LogisticRegression(C=10, fit_intercept=True, max_iter=100, penalty='l2'),\n",
    "              'Support Vector Machine': SVC(C=1, kernel='rbf'),\n",
    "              'Random Forest': RandomForestClassifier(criterion='entropy', n_estimators=50, max_depth=10, random_state=21)}\n",
    "\n",
    "    # Iterate over the models\n",
    "    for name, model in models.items():\n",
    "        # Train the model\n",
    "        model.fit(X_train, y_train)\n",
    "        \n",
    "        # Predict on the test set\n",
    "        y_pred = model.predict(X_test)\n",
    "       \n",
    "        if gen == False :\n",
    "            pass\n",
    "        else:\n",
    "            # Create .csv predict result\n",
    "            result_dict = {'PassengerId':pd.read_csv('test.csv').copy().PassengerId,\n",
    "                           'Survived': y_pred}\n",
    "            df = pd.DataFrame(result_dict)\n",
    "            df.to_csv('{}.csv'.format(name),index=False)\n",
    "            print(\"Create .csv Model: {} Done\".format(name))\n",
    "            print()\n",
    "        "
   ]
  },
  {
   "cell_type": "code",
   "execution_count": 14,
   "id": "4e4ef212",
   "metadata": {
    "scrolled": false
   },
   "outputs": [],
   "source": [
    "# Performing hyperparameter tuning\n",
    "def grid_search():\n",
    "    from sklearn.neighbors import KNeighborsClassifier\n",
    "    from sklearn.naive_bayes import GaussianNB\n",
    "    from sklearn.linear_model import SGDClassifier\n",
    "    from sklearn.model_selection import GridSearchCV, cross_val_score\n",
    "    from sklearn.ensemble import RandomForestClassifier\n",
    "    from sklearn.linear_model import LogisticRegression\n",
    "    from sklearn.svm import SVC\n",
    "\n",
    "    # Load the data\n",
    "    X_train, y_train = train.drop('survived', axis=1), train.survived\n",
    "\n",
    "    # Define the models to be used\n",
    "    models = {\n",
    "        'LogisticRegression': LogisticRegression(),\n",
    "        'SVC': SVC(),\n",
    "        'RandomForestClassifier': RandomForestClassifier(),\n",
    "        'KNeighborsClassifier': KNeighborsClassifier(),\n",
    "        'GaussianNB': GaussianNB(),\n",
    "        'SGDClassifier': SGDClassifier()\n",
    "    }\n",
    "\n",
    "    # Define the hyperparameters to be tuned\n",
    "    hyperparameters = {\n",
    "        'LogisticRegression': {'C': [0.1, 1, 10], 'penalty': ['l2']},\n",
    "        'SVC': {'C': [0.1, 1, 10], 'kernel': ['linear', 'rbf']},\n",
    "        'RandomForestClassifier': {'n_estimators': [50, 100, 200], 'max_depth': [None, 5, 10]},\n",
    "        'KNeighborsClassifier': {'n_neighbors': [20, 40, 80], 'weights': ['uniform', 'distance']},\n",
    "        'GaussianNB': {},\n",
    "        'SGDClassifier': {'loss': ['hinge', 'log'], 'penalty': ['l1', 'l2', 'elasticnet']}\n",
    "    }\n",
    "\n",
    "    # Train and tune each model using GridSearchCV\n",
    "    for model_name, model in models.items():\n",
    "        gs = GridSearchCV(model, hyperparameters[model_name], cv=5, verbose=0)\n",
    "        gs.fit(X_train, y_train)\n",
    "        models[model_name] = gs\n",
    "\n",
    "    # Evaluate the models on the test set\n",
    "    for model_name, gs in models.items():\n",
    "        # Best score for each model\n",
    "        print(f'{model_name} best score: {gs.best_score_:.2f}')\n",
    "    print()\n",
    "    \n",
    "    for model_name, gs in models.items():\n",
    "        # Best parameters for each model\n",
    "        print(f'{model_name} best params: {gs.best_params_}')\n",
    "    print()\n",
    "        \n",
    "    for model_name, gs in models.items():\n",
    "        cv_score = cross_val_score(gs, X_train, y_train, cv=5)\n",
    "        print(f\"{model_name} Regression Accuracy: {cv_score.mean():.2f} (+/- {cv_score.std():.2f})\")\n",
    "\n",
    "    for model_name, gs in models.items():\n",
    "        # Best score for each model\n",
    "        models[model_name] = gs.best_score_   \n",
    "        \n",
    "    # Get the list of models and their corresponding best scores\n",
    "    model_names = list(models.keys())\n",
    "    best_scores = list(list(models.values()))\n",
    "\n",
    "    # Create a bar chart\n",
    "    plt.bar(model_names, best_scores)\n",
    "    plt.xlabel(\"Model\")\n",
    "    plt.ylabel(\"Mean Test Score\")\n",
    "    plt.title(\"Model Tuning Results\")\n",
    "    plt.xticks(rotation=45)\n",
    "    plt.ylim(0.7, 0.9)\n",
    "    plt.show()"
   ]
  },
  {
   "cell_type": "code",
   "execution_count": 97,
   "id": "9ed2057d",
   "metadata": {},
   "outputs": [
    {
     "name": "stdout",
     "output_type": "stream",
     "text": [
      "LogisticRegression best score: 0.80\n",
      "SVC best score: 0.81\n",
      "RandomForestClassifier best score: 0.82\n",
      "KNeighborsClassifier best score: 0.79\n",
      "GaussianNB best score: 0.37\n",
      "SGDClassifier best score: 0.79\n",
      "\n",
      "LogisticRegression best params: {'C': 10, 'penalty': 'l2'}\n",
      "SVC best params: {'C': 1, 'kernel': 'rbf'}\n",
      "RandomForestClassifier best params: {'max_depth': 10, 'n_estimators': 200}\n",
      "KNeighborsClassifier best params: {'n_neighbors': 20, 'weights': 'uniform'}\n",
      "GaussianNB best params: {}\n",
      "SGDClassifier best params: {'loss': 'log', 'penalty': 'l1'}\n",
      "\n",
      "LogisticRegression Regression Accuracy: 0.79 (+/- 0.02)\n",
      "SVC Regression Accuracy: 0.81 (+/- 0.01)\n",
      "RandomForestClassifier Regression Accuracy: 0.82 (+/- 0.02)\n",
      "KNeighborsClassifier Regression Accuracy: 0.79 (+/- 0.03)\n",
      "GaussianNB Regression Accuracy: 0.37 (+/- 0.01)\n",
      "SGDClassifier Regression Accuracy: 0.76 (+/- 0.03)\n",
      "['LogisticRegression', 'SVC', 'RandomForestClassifier', 'KNeighborsClassifier', 'GaussianNB', 'SGDClassifier']\n",
      "[0.8, 0.8065359477124183, 0.8209150326797385, 0.7947712418300654, 0.3686274509803922, 0.7895424836601308]\n"
     ]
    },
    {
     "data": {
      "image/png": "[encoded data removed]",
      "text/plain": [
       "<Figure size 432x288 with 1 Axes>"
      ]
     },
     "metadata": {
      "needs_background": "light"
     },
     "output_type": "display_data"
    },
    {
     "name": "stdout",
     "output_type": "stream",
     "text": [
      "Time elapsed:  62.209569692611694\n"
     ]
    }
   ],
   "source": [
    "import time\n",
    "start_time = time.time()\n",
    "\n",
    "# Load data\n",
    "train = pd.read_csv('train.csv').copy()\n",
    "test = pd.read_csv('test.csv').copy()\n",
    "\n",
    "# Data cleaning and preprocessing\n",
    "train = rename_cols(train)\n",
    "train = remove_unwanted_cols(train)\n",
    "train = filter_outlier(train)\n",
    "train = imputer(train)\n",
    "train = one_hot(train)\n",
    "train = scaler(train)\n",
    "\n",
    "# Performing hyperparameter tuning\n",
    "grid_search()\n",
    "\n",
    "end_time = time.time()\n",
    "time_elapsed = end_time - start_time\n",
    "print(\"Time elapsed: \", time_elapsed)"
   ]
  },
  {
   "cell_type": "code",
   "execution_count": 57,
   "id": "dfd133fe",
   "metadata": {},
   "outputs": [
    {
     "name": "stdout",
     "output_type": "stream",
     "text": [
      "Create .csv Model: Logistic Regression Done\n",
      "\n",
      "Create .csv Model: Support Vector Machine Done\n",
      "\n",
      "Create .csv Model: Random Forest Done\n",
      "\n"
     ]
    }
   ],
   "source": [
    "# Load data\n",
    "train = pd.read_csv('train.csv').copy()\n",
    "test = pd.read_csv('test.csv').copy()\n",
    "\n",
    "# Data cleaning and preprocessing\n",
    "train = rename_cols(train)\n",
    "train = remove_unwanted_cols(train)\n",
    "train = filter_outlier(train)\n",
    "train = imputer(train)\n",
    "train = one_hot(train)\n",
    "train = scaler(train)\n",
    "test = rename_cols(test)\n",
    "test = remove_unwanted_cols(test)\n",
    "test = imputer(test)\n",
    "test = one_hot(test)\n",
    "test = scaler(test)\n",
    "test = test.drop(['sibsp_8', 'parch_9'], axis=1)\n",
    "\n",
    "# Train and elevauate the model\n",
    "run_models(gen=True) # gen=True will return predicted result as .csv file"
   ]
  },
  {
   "cell_type": "code",
   "execution_count": 93,
   "id": "7c882c3e",
   "metadata": {},
   "outputs": [
    {
     "name": "stderr",
     "output_type": "stream",
     "text": [
      "C:\\Users\\acer\\anaconda3\\lib\\site-packages\\sklearn\\linear_model\\_logistic.py:763: ConvergenceWarning: lbfgs failed to converge (status=1):\n",
      "STOP: TOTAL NO. of ITERATIONS REACHED LIMIT.\n",
      "\n",
      "Increase the number of iterations (max_iter) or scale the data as shown in:\n",
      "    https://scikit-learn.org/stable/modules/preprocessing.html\n",
      "Please also refer to the documentation for alternative solver options:\n",
      "    https://scikit-learn.org/stable/modules/linear_model.html#logistic-regression\n",
      "  n_iter_i = _check_optimize_result(\n"
     ]
    },
    {
     "name": "stdout",
     "output_type": "stream",
     "text": [
      "LogisticRegression best score: 0.77\n",
      "SVC best score: 0.78\n",
      "RandomForestClassifier best score: 0.83\n",
      "KNeighborsClassifier best score: 0.72\n",
      "GaussianNB best score: 0.76\n",
      "SGDClassifier best score: 0.77\n",
      "LogisticRegression best params: {'C': 10, 'penalty': 'l2'}\n",
      "SVC best params: {'C': 0.1, 'kernel': 'linear'}\n",
      "RandomForestClassifier best params: {'max_depth': 10, 'n_estimators': 100}\n",
      "KNeighborsClassifier best params: {'n_neighbors': 20, 'weights': 'distance'}\n",
      "GaussianNB best params: {}\n",
      "SGDClassifier best params: {'loss': 'log', 'penalty': 'l1'}\n",
      "['LogisticRegression', 'SVC', 'RandomForestClassifier', 'KNeighborsClassifier', 'GaussianNB', 'SGDClassifier']\n",
      "[0.7738562091503267, 0.7777777777777778, 0.8300653594771242, 0.7202614379084968, 0.7647058823529411, 0.7686274509803921]\n"
     ]
    },
    {
     "data": {
      "image/png": "[encoded data removed]",
      "text/plain": [
       "<Figure size 432x288 with 1 Axes>"
      ]
     },
     "metadata": {
      "needs_background": "light"
     },
     "output_type": "display_data"
    }
   ],
   "source": [
    "# Quick precossing test\n",
    "    # No one-hot encoding\n",
    "    # No stardardize\n",
    "\n",
    "# Load data\n",
    "train = pd.read_csv('train.csv').copy()\n",
    "test = pd.read_csv('test.csv').copy()\n",
    "\n",
    "# Data cleaning and preprocessing\n",
    "train = rename_cols(train)\n",
    "train = remove_unwanted_cols(train)\n",
    "train = filter_outlier(train)\n",
    "train = imputer(train)\n",
    "# train = one_hot(train)\n",
    "# train = scaler(train)\n",
    "train.sex = train.sex.replace({'male':0, 'female':1})\n",
    "train.embarked = train.embarked.replace({'S':0, 'Q':1, 'C':2})\n",
    "test = rename_cols(test)\n",
    "test = remove_unwanted_cols(test)\n",
    "test = imputer(test)\n",
    "# test = one_hot(test)\n",
    "# test = scaler(test)\n",
    "# test = test.drop(['sibsp_8', 'parch_9'], axis=1)\n",
    "test.sex = test.sex.replace({'male':0, 'female':1})\n",
    "test.embarked = train.embarked.replace({'S':0, 'Q':1, 'C':2})\n",
    "\n",
    "# Train and elevauate the model\n",
    "# run_models() # gen=True will return predicted result as .csv file\n",
    "grid_search()"
   ]
  },
  {
   "cell_type": "code",
   "execution_count": null,
   "id": "a9120970",
   "metadata": {},
   "outputs": [],
   "source": []
  }
 ],
 "metadata": {
  "kernelspec": {
   "display_name": "Python 3",
   "language": "python",
   "name": "python3"
  },
  "language_info": {
   "codemirror_mode": {
    "name": "ipython",
    "version": 3
   },
   "file_extension": ".py",
   "mimetype": "text/x-python",
   "name": "python",
   "nbconvert_exporter": "python",
   "pygments_lexer": "ipython3",
   "version": "3.8.8"
  }
 },
 "nbformat": 4,
 "nbformat_minor": 5
}
