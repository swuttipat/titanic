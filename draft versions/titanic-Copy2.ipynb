{
 "cells": [
  {
   "cell_type": "markdown",
   "id": "4fcedd9f",
   "metadata": {},
   "source": [
    "# Dataset Description\n",
    "### Overview\n",
    "The data has been split into two groups:\n",
    "* training set (train.csv)\n",
    "* test set (test.csv)\n",
    "\n",
    "**The training set** should be used to build your machine learning models. For the training set, we provide the outcome (also known as the “ground truth”) for each passenger. Your model will be based on “features” like passengers’ gender and class. You can also use *feature engineering* to create new features.\n",
    "\n",
    "**The test set** should be used to see how well your model performs on unseen data. For the test set, we do not provide the ground truth for each passenger. It is your job to predict these outcomes. For each passenger in the test set, use the model you trained to predict whether or not they survived the sinking of the Titanic.\n",
    "\n",
    "We also include **gender_submission.csv**, a set of predictions that assume all and only female passengers survive, as an example of what a submission file should look like.\n",
    "\n",
    "Data Dictionary\n",
    "\n",
    "| Variable |                 Definition                 |                       Key                      |\n",
    "|:---------|:-------------------------------------------|:-----------------------------------------------|\n",
    "| survival | Survival                                   | 0 = No, 1 = Yes                                |\n",
    "| pclass   | Ticket class                               | 1 = 1st, 2 = 2nd, 3 = 3rd                      |\n",
    "| sex      | Sex                                        |                                                |\n",
    "| Age      | Age in years                               |                                                |\n",
    "| sibsp    | # of siblings / spouses aboard the Titanic |                                                |\n",
    "| parch    | # of parents / children aboard the Titanic |                                                |\n",
    "| ticket   | Ticket number                              |                                                |\n",
    "| fare     | Passenger fare                             |                                                |\n",
    "| cabin    | Cabin number                               |                                                |\n",
    "| embarked | Port of Embarkation                        | C = Cherbourg, Q = Queenstown, S = Southampton |\n",
    "\n",
    "### Variable Notes\n",
    "**pclass**: A proxy for socio-economic status (SES) <br>\n",
    "1st = Upper <br>\n",
    "2nd = Middle <br>\n",
    "3rd = Lower <br>\n",
    "\n",
    "**age**: Age is fractional if less than 1. If the age is estimated, is it in the form of xx.5\n",
    "\n",
    "**sibsp**: The dataset defines family relations in this way...\n",
    "Sibling = brother, sister, stepbrother, stepsister\n",
    "Spouse = husband, wife (mistresses and fiancés were ignored)\n",
    "\n",
    "**parch**: The dataset defines family relations in this way...\n",
    "Parent = mother, father\n",
    "Child = daughter, son, stepdaughter, stepson\n",
    "Some children travelled only with a nanny, therefore parch=0 for them."
   ]
  },
  {
   "cell_type": "code",
   "execution_count": 1,
   "id": "3e2e2dcc",
   "metadata": {},
   "outputs": [],
   "source": [
    "numerical_features = ['age', 'fare']\n",
    "categorical_features = ['pclass', 'sex', 'sibsp', 'parch', 'embarked']\n",
    "removeable_features = ['passengerid', 'name', 'ticket', 'cabin']"
   ]
  },
  {
   "cell_type": "markdown",
   "id": "8e122192",
   "metadata": {},
   "source": [
    "source:\n",
    "https://www.kaggle.com/competitions/titanic"
   ]
  },
  {
   "cell_type": "code",
   "execution_count": 2,
   "id": "52590ffe",
   "metadata": {},
   "outputs": [],
   "source": [
    "import pandas as pd\n",
    "import numpy as np\n",
    "import matplotlib.pyplot as plt\n",
    "import seaborn as sns"
   ]
  },
  {
   "cell_type": "code",
   "execution_count": 3,
   "id": "2f048a51",
   "metadata": {},
   "outputs": [],
   "source": [
    "train = pd.read_csv('train.csv').copy()\n",
    "test = pd.read_csv('test.csv').copy()"
   ]
  },
  {
   "cell_type": "code",
   "execution_count": null,
   "id": "88d64a9e",
   "metadata": {},
   "outputs": [],
   "source": [
    "train.head()"
   ]
  },
  {
   "cell_type": "code",
   "execution_count": null,
   "id": "9766fd61",
   "metadata": {},
   "outputs": [],
   "source": [
    "test.head()"
   ]
  },
  {
   "cell_type": "code",
   "execution_count": null,
   "id": "1935a985",
   "metadata": {},
   "outputs": [],
   "source": [
    "train.describe(include='all')"
   ]
  },
  {
   "cell_type": "code",
   "execution_count": null,
   "id": "8c4665f4",
   "metadata": {},
   "outputs": [],
   "source": [
    "test.describe(include='all')"
   ]
  },
  {
   "cell_type": "code",
   "execution_count": null,
   "id": "35d3b445",
   "metadata": {},
   "outputs": [],
   "source": [
    "len(train)"
   ]
  },
  {
   "cell_type": "code",
   "execution_count": null,
   "id": "367120fd",
   "metadata": {},
   "outputs": [],
   "source": [
    "# See Nan values\n",
    "train.isna().sum()"
   ]
  },
  {
   "cell_type": "code",
   "execution_count": null,
   "id": "e8f104ee",
   "metadata": {},
   "outputs": [],
   "source": [
    "# Rename columns name into lowercase\n",
    "train.columns = [x.lower() for x in train.columns]"
   ]
  },
  {
   "cell_type": "code",
   "execution_count": 4,
   "id": "5fdfea7e",
   "metadata": {},
   "outputs": [],
   "source": [
    "# Rename columns name into lowercase\n",
    "def rename_cols(df):\n",
    "    df.columns = [x.lower() for x in df.columns]\n",
    "    return df"
   ]
  },
  {
   "cell_type": "code",
   "execution_count": null,
   "id": "fe9f0931",
   "metadata": {},
   "outputs": [],
   "source": [
    "# Remove unwanted columns\n",
    "train = train.drop(labels=removeable_features, axis=1)"
   ]
  },
  {
   "cell_type": "code",
   "execution_count": 5,
   "id": "846d9979",
   "metadata": {},
   "outputs": [],
   "source": [
    "# Remove unwanted columns\n",
    "def remove_unwanted_cols(df):\n",
    "    df = df.drop(labels=removeable_features, axis=1)\n",
    "    return df"
   ]
  },
  {
   "cell_type": "code",
   "execution_count": null,
   "id": "1f3099f4",
   "metadata": {},
   "outputs": [],
   "source": [
    "# Looking inside 'age' distribution\n",
    "plt.hist(train.age)\n",
    "plt.show()\n",
    "\n",
    "print('Age mean: {}'.format(train.age.mean()))\n",
    "print('Age median: {}'.format(train.age.median()))\n",
    "print('Age mode: {}'.format(train.age.mode()))\n"
   ]
  },
  {
   "cell_type": "code",
   "execution_count": null,
   "id": "b0e3538b",
   "metadata": {},
   "outputs": [],
   "source": [
    "# Looking inside 'fare' distribution\n",
    "plt.hist(train.fare)\n",
    "plt.show()\n",
    "\n",
    "print('fare mean: {}'.format(train.fare.mean()))\n",
    "print('fare median: {}'.format(train.fare.median()))\n",
    "print('fare mode: {}'.format(train.fare.mode()))\n"
   ]
  },
  {
   "cell_type": "code",
   "execution_count": null,
   "id": "aaf0fecc",
   "metadata": {},
   "outputs": [],
   "source": [
    "# Select the columns to filter out outliers\n",
    "cols_to_filter = numerical_features\n",
    "\n",
    "# Calculate the quartiles and interquartile range\n",
    "Q1 = train[cols_to_filter].quantile(0.25)\n",
    "Q3 = train[cols_to_filter].quantile(0.75)\n",
    "IQR = Q3 - Q1\n",
    "\n",
    "# Set the lower and upper thresholds\n",
    "lower_threshold = Q1 - 1.5 * IQR\n",
    "upper_threshold = Q3 + 1.5 * IQR\n",
    "\n",
    "# Filter the train\n",
    "train = train[~((train[cols_to_filter] < lower_threshold) | (train[cols_to_filter] > upper_threshold)).any(axis=1)]"
   ]
  },
  {
   "cell_type": "code",
   "execution_count": 6,
   "id": "533c923d",
   "metadata": {},
   "outputs": [],
   "source": [
    "# Filter out outliers\n",
    "def filter_outlier(df):\n",
    "    # Select the columns to filter out outliers\n",
    "    cols_to_filter = numerical_features\n",
    "\n",
    "    # Calculate the quartiles and interquartile range\n",
    "    Q1 = df[cols_to_filter].quantile(0.25)\n",
    "    Q3 = df[cols_to_filter].quantile(0.75)\n",
    "    IQR = Q3 - Q1\n",
    "\n",
    "    # Set the lower and upper thresholds\n",
    "    lower_threshold = Q1 - 1.5 * IQR\n",
    "    upper_threshold = Q3 + 1.5 * IQR\n",
    "\n",
    "    # Filter the df\n",
    "    df = df[~((df[cols_to_filter] < lower_threshold) | (df[cols_to_filter] > upper_threshold)).any(axis=1)]\n",
    "    \n",
    "    return df"
   ]
  },
  {
   "cell_type": "code",
   "execution_count": 18,
   "id": "ec2c0d52",
   "metadata": {},
   "outputs": [
    {
     "name": "stdout",
     "output_type": "stream",
     "text": [
      "     survived       age      fare  pclass_2  pclass_3  sex_male  sibsp_1  \\\n",
      "0           0 -0.519955 -0.778143         0         1         1        1   \n",
      "2           1 -0.185188 -0.728035         0         1         0        0   \n",
      "3           1  0.568037  2.625508         0         0         0        1   \n",
      "4           0  0.568037 -0.718755         0         1         1        0   \n",
      "5           0 -0.017805 -0.688445         0         1         1        0   \n",
      "..        ...       ...       ...       ...       ...       ...      ...   \n",
      "886         0 -0.101497 -0.351295         1         0         1        0   \n",
      "887         1 -0.771030  0.910691         0         0         0        0   \n",
      "888         0 -0.017805  0.424455         0         1         0        1   \n",
      "889         1 -0.185188  0.910691         0         0         1        0   \n",
      "890         0  0.316962 -0.741026         0         1         1        0   \n",
      "\n",
      "     sibsp_2  sibsp_3  sibsp_4  sibsp_5  parch_1  parch_2  parch_3  parch_4  \\\n",
      "0          0        0        0        0        0        0        0        0   \n",
      "2          0        0        0        0        0        0        0        0   \n",
      "3          0        0        0        0        0        0        0        0   \n",
      "4          0        0        0        0        0        0        0        0   \n",
      "5          0        0        0        0        0        0        0        0   \n",
      "..       ...      ...      ...      ...      ...      ...      ...      ...   \n",
      "886        0        0        0        0        0        0        0        0   \n",
      "887        0        0        0        0        0        0        0        0   \n",
      "888        0        0        0        0        0        1        0        0   \n",
      "889        0        0        0        0        0        0        0        0   \n",
      "890        0        0        0        0        0        0        0        0   \n",
      "\n",
      "     parch_5  parch_6  embarked_Q  embarked_S  \n",
      "0          0        0           0           1  \n",
      "2          0        0           0           1  \n",
      "3          0        0           0           1  \n",
      "4          0        0           0           1  \n",
      "5          0        0           1           0  \n",
      "..       ...      ...         ...         ...  \n",
      "886        0        0           0           1  \n",
      "887        0        0           0           1  \n",
      "888        0        0           0           1  \n",
      "889        0        0           0           0  \n",
      "890        0        0           1           0  \n",
      "\n",
      "[765 rows x 19 columns]\n"
     ]
    }
   ],
   "source": [
    "# Missing values imputer\n",
    "from sklearn.impute import SimpleImputer\n",
    "\n",
    "# Create an imputer object with median strategy\n",
    "imputer = SimpleImputer(strategy='median')\n",
    "\n",
    "# Fit the imputer object on the age column\n",
    "imputer.fit(train[numerical_features])\n",
    "\n",
    "# Transform the age column\n",
    "train[numerical_features] = imputer.transform(train[numerical_features])\n",
    "\n",
    "# Print the updated data\n",
    "print(train)"
   ]
  },
  {
   "cell_type": "code",
   "execution_count": 19,
   "id": "d7be4240",
   "metadata": {},
   "outputs": [],
   "source": [
    "def imputer(df):\n",
    "    # Missing values imputer\n",
    "    from sklearn.impute import SimpleImputer\n",
    "\n",
    "    # Create an imputer object with median strategy\n",
    "    imputer = SimpleImputer(strategy='median')\n",
    "\n",
    "    # Fit the imputer object on the age column\n",
    "    imputer.fit(df[numerical_features])\n",
    "\n",
    "    # Transform the age column\n",
    "    df[numerical_features] = imputer.transform(df[numerical_features])\n",
    "\n",
    "    return df"
   ]
  },
  {
   "cell_type": "code",
   "execution_count": null,
   "id": "667a0c36",
   "metadata": {},
   "outputs": [],
   "source": [
    "train[categorical_features]"
   ]
  },
  {
   "cell_type": "code",
   "execution_count": null,
   "id": "adf62154",
   "metadata": {},
   "outputs": [],
   "source": [
    "train"
   ]
  },
  {
   "cell_type": "code",
   "execution_count": null,
   "id": "cbb90fe6",
   "metadata": {},
   "outputs": [],
   "source": [
    "# Apply One-hot encode\n",
    "train = pd.get_dummies(data=train, columns=categorical_features, drop_first=True)"
   ]
  },
  {
   "cell_type": "code",
   "execution_count": 8,
   "id": "22ee77b7",
   "metadata": {},
   "outputs": [],
   "source": [
    "# Apply One-hot encode\n",
    "def one_hot(df):\n",
    "    df = pd.get_dummies(data=df, columns=categorical_features, drop_first=True)\n",
    "    return df"
   ]
  },
  {
   "cell_type": "code",
   "execution_count": null,
   "id": "d92cfb96",
   "metadata": {},
   "outputs": [],
   "source": [
    "from sklearn.preprocessing import StandardScaler\n",
    "\n",
    "# Create standardscaler instace\n",
    "scaler = StandardScaler()\n",
    "\n",
    "# Fit the instace on the selected columns\n",
    "scaler.fit(train[numerical_features])\n",
    "\n",
    "# Transform the selected columns\n",
    "train[numerical_features] = scaler.transform(train[numerical_features])"
   ]
  },
  {
   "cell_type": "code",
   "execution_count": 9,
   "id": "2b55e140",
   "metadata": {},
   "outputs": [],
   "source": [
    "def scaler(df):\n",
    "    \n",
    "    from sklearn.preprocessing import StandardScaler\n",
    "\n",
    "    # Create standardscaler instace\n",
    "    scaler = StandardScaler()\n",
    "\n",
    "    # Fit the instace on the selected columns\n",
    "    scaler.fit(df[numerical_features])\n",
    "\n",
    "    # Transform the selected columns\n",
    "    df[numerical_features] = scaler.transform(df[numerical_features])\n",
    "    \n",
    "    return df"
   ]
  },
  {
   "cell_type": "code",
   "execution_count": 29,
   "id": "c61659b6",
   "metadata": {},
   "outputs": [],
   "source": [
    "train = pd.read_csv('train.csv').copy()\n",
    "test = pd.read_csv('test.csv').copy()\n",
    "\n",
    "train = rename_cols(train)\n",
    "train = remove_unwanted_cols(train)\n",
    "train = filter_outlier(train)\n",
    "train = imputer(train)\n",
    "train = one_hot(train)\n",
    "train = scaler(train)\n",
    "\n",
    "test = rename_cols(test)\n",
    "test = remove_unwanted_cols(test)\n",
    "test = imputer(test)\n",
    "test = one_hot(test)\n",
    "test = scaler(test)\n",
    "test = test.drop(['sibsp_8', 'parch_9'], axis=1)"
   ]
  },
  {
   "cell_type": "code",
   "execution_count": 33,
   "id": "f5bf2ccf",
   "metadata": {},
   "outputs": [
    {
     "name": "stdout",
     "output_type": "stream",
     "text": [
      "Model: Logistic Regression\n",
      "Accuracy: 0.8235\n",
      "Precision: 0.8213\n",
      "Recall: 0.8235\n",
      "\n",
      "Model: Support Vector Machine\n",
      "Accuracy: 0.8235\n",
      "Precision: 0.8213\n",
      "Recall: 0.8235\n",
      "\n",
      "Model: Random Forest\n",
      "Accuracy: 0.8039\n",
      "Precision: 0.8039\n",
      "Recall: 0.8039\n",
      "\n"
     ]
    }
   ],
   "source": [
    "# Model training, predict, and evaluate\n",
    "import numpy as np\n",
    "from sklearn.model_selection import train_test_split\n",
    "from sklearn.metrics import accuracy_score, precision_score, recall_score\n",
    "from sklearn.linear_model import LogisticRegression\n",
    "from sklearn.svm import SVC\n",
    "from sklearn.ensemble import RandomForestClassifier\n",
    "\n",
    "# Load the data\n",
    "X, y = train.drop('survived', axis=1), train.survived\n",
    "\n",
    "\n",
    "# Split the data into train and test sets\n",
    "X_train, X_test, y_train, y_test = train_test_split(X, y, test_size=0.2, random_state=42)\n",
    "\n",
    "# Initialize the models\n",
    "models = {'Logistic Regression': LogisticRegression(max_iter=1000),\n",
    "          'Support Vector Machine': SVC(),\n",
    "          'Random Forest': RandomForestClassifier(n_estimators=10)}\n",
    "\n",
    "# Iterate over the models\n",
    "for name, model in models.items():\n",
    "    # Train the model\n",
    "    model.fit(X_train, y_train)\n",
    "    # Predict on the test set\n",
    "    y_pred = model.predict(X_test)\n",
    "    # Evaluate the model\n",
    "    accuracy = accuracy_score(y_test, y_pred)\n",
    "    precision = precision_score(y_test, y_pred, average='weighted')\n",
    "    recall = recall_score(y_test, y_pred, average='weighted')\n",
    "    print(\"Model: {}\".format(name))\n",
    "    print(\"Accuracy: {:.4f}\".format(accuracy))\n",
    "    print(\"Precision: {:.4f}\".format(precision))\n",
    "    print(\"Recall: {:.4f}\".format(recall))\n",
    "    print()\n"
   ]
  },
  {
   "cell_type": "code",
   "execution_count": 34,
   "id": "09fc6b43",
   "metadata": {},
   "outputs": [
    {
     "data": {
      "image/png": "[encoded data removed]",
      "text/plain": [
       "<Figure size 432x288 with 1 Axes>"
      ]
     },
     "metadata": {
      "needs_background": "light"
     },
     "output_type": "display_data"
    }
   ],
   "source": [
    "# Visualize model performance\n",
    "\n",
    "# Collect the evaluation metrics\n",
    "accuracies = []\n",
    "precisions = []\n",
    "recalls = []\n",
    "for name, model in models.items():\n",
    "    # Train the model\n",
    "    model.fit(X_train, y_train)\n",
    "    # Predict on the test set\n",
    "    y_pred = model.predict(X_test)\n",
    "    # Evaluate the model\n",
    "    accuracy = accuracy_score(y_test, y_pred)\n",
    "    precision = precision_score(y_test, y_pred, average='weighted')\n",
    "    recall = recall_score(y_test, y_pred, average='weighted')\n",
    "    accuracies.append(accuracy)\n",
    "    precisions.append(precision)\n",
    "    recalls.append(recall)\n",
    "\n",
    "# Create the bar chart\n",
    "bar_width = 0.2\n",
    "bar_x = np.arange(len(models))\n",
    "\n",
    "plt.bar(bar_x, accuracies, bar_width, label='Accuracy')\n",
    "plt.bar(bar_x + bar_width, precisions, bar_width, label='Precision')\n",
    "plt.bar(bar_x + 2*bar_width, recalls, bar_width, label='Recall')\n",
    "\n",
    "plt.xticks(bar_x + bar_width, list(models.keys()))\n",
    "plt.ylim(0, 1)\n",
    "plt.legend()\n",
    "plt.show()"
   ]
  },
  {
   "cell_type": "code",
   "execution_count": null,
   "id": "11979016",
   "metadata": {},
   "outputs": [],
   "source": []
  },
  {
   "cell_type": "code",
   "execution_count": 32,
   "id": "8b4ec615",
   "metadata": {
    "scrolled": true
   },
   "outputs": [
    {
     "name": "stdout",
     "output_type": "stream",
     "text": [
      "Create .csv Model: Logistic Regression Done\n",
      "\n",
      "Create .csv Model: Support Vector Machine Done\n",
      "\n",
      "Create .csv Model: Random Forest Done\n",
      "\n"
     ]
    }
   ],
   "source": [
    "# Generate result .csv \n",
    "\n",
    "import numpy as np\n",
    "from sklearn.model_selection import train_test_split\n",
    "from sklearn.metrics import accuracy_score, precision_score, recall_score\n",
    "from sklearn.linear_model import LogisticRegression\n",
    "from sklearn.svm import SVC\n",
    "from sklearn.ensemble import RandomForestClassifier\n",
    "\n",
    "\n",
    "# Split the data into train and test sets\n",
    "X_train = train.drop('survived', axis=1)\n",
    "X_test = test\n",
    "y_train = train.survived\n",
    "\n",
    "# Initialize the models\n",
    "models = {'Logistic Regression': LogisticRegression(max_iter=1000),\n",
    "          'Support Vector Machine': SVC(),\n",
    "          'Random Forest': RandomForestClassifier(n_estimators=10)}\n",
    "\n",
    "# Iterate over the models\n",
    "for name, model in models.items():\n",
    "    \n",
    "    # Train the model\n",
    "    model.fit(X_train, y_train)\n",
    "    \n",
    "    # Predict on the test set\n",
    "    y_pred = model.predict(X_test)\n",
    "    \n",
    "    # Create .csv predict result\n",
    "    result_dict = {'PassengerId':pd.read_csv('test.csv').copy().PassengerId,\n",
    "                   'Survived': y_pred}\n",
    "    df = pd.DataFrame(result_dict)\n",
    "    df.to_csv('{}.csv'.format(name),index=False)\n",
    "    print(\"Create .csv Model: {} Done\".format(name))\n",
    "    print()\n"
   ]
  }
 ],
 "metadata": {
  "kernelspec": {
   "display_name": "Python 3",
   "language": "python",
   "name": "python3"
  },
  "language_info": {
   "codemirror_mode": {
    "name": "ipython",
    "version": 3
   },
   "file_extension": ".py",
   "mimetype": "text/x-python",
   "name": "python",
   "nbconvert_exporter": "python",
   "pygments_lexer": "ipython3",
   "version": "3.8.8"
  }
 },
 "nbformat": 4,
 "nbformat_minor": 5
}
